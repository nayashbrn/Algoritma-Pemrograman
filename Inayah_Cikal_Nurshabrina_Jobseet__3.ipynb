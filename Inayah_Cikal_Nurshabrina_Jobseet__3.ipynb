{
  "nbformat": 4,
  "nbformat_minor": 0,
  "metadata": {
    "colab": {
      "provenance": [],
      "authorship_tag": "ABX9TyMv6YRJTH6Rg2yxMi7bEgNR",
      "include_colab_link": true
    },
    "kernelspec": {
      "name": "python3",
      "display_name": "Python 3"
    },
    "language_info": {
      "name": "python"
    }
  },
  "cells": [
    {
      "cell_type": "markdown",
      "metadata": {
        "id": "view-in-github",
        "colab_type": "text"
      },
      "source": [
        "<a href=\"https://colab.research.google.com/github/nayashbrn/Algoritma-Pemrograman/blob/main/Inayah_Cikal_Nurshabrina_Jobseet__3.ipynb\" target=\"_parent\"><img src=\"https://colab.research.google.com/assets/colab-badge.svg\" alt=\"Open In Colab\"/></a>"
      ]
    },
    {
      "cell_type": "markdown",
      "source": [
        "# **Praktikum 01 - If Sederhana**\n",
        "\n"
      ],
      "metadata": {
        "id": "PFZb82p08FxN"
      }
    },
    {
      "cell_type": "code",
      "execution_count": null,
      "metadata": {
        "colab": {
          "base_uri": "https://localhost:8080/"
        },
        "id": "LHB70ZKa8CHz",
        "outputId": "47026787-129e-4d3b-d454-f4df7f6aa041"
      },
      "outputs": [
        {
          "output_type": "stream",
          "name": "stdout",
          "text": [
            "Masukkan nilai ujian:70\n",
            "Anda LULUS\n"
          ]
        }
      ],
      "source": [
        "nilai=int(input(\"Masukkan nilai ujian:\"))\n",
        "if nilai >= 60:\n",
        "  print(\"Anda LULUS\")"
      ]
    },
    {
      "cell_type": "markdown",
      "source": [
        "# **Praktikum 02 - If-Else**"
      ],
      "metadata": {
        "id": "mojfTHn5ARZS"
      }
    },
    {
      "cell_type": "code",
      "source": [
        "nilai=int(input(\"Masukkan nilai ujian:\"))\n",
        "if nilai >= 60:\n",
        "  print(\"Anda LULUS\")\n",
        "else:\n",
        "  print(\"Anda TIDAK LULUS\")"
      ],
      "metadata": {
        "colab": {
          "base_uri": "https://localhost:8080/"
        },
        "id": "8PGs9UCuAxmO",
        "outputId": "8a4a5e1b-d319-4158-f435-0e113251226a"
      },
      "execution_count": null,
      "outputs": [
        {
          "output_type": "stream",
          "name": "stdout",
          "text": [
            "Masukkan nilai ujian:50\n",
            "Anda TIDAK LULUS\n"
          ]
        }
      ]
    },
    {
      "cell_type": "markdown",
      "source": [
        "# **Praktikum 03 - If-Elif-Else**"
      ],
      "metadata": {
        "id": "UGhFb_7KAaOE"
      }
    },
    {
      "cell_type": "code",
      "source": [
        "nilai=int(input(\"Masukkan nilai akhir:\"))\n",
        "\n",
        "if nilai >= 85:\n",
        "  grade = \"A\"\n",
        "elif nilai >= 70:\n",
        "  grade = \"B\"\n",
        "elif nilai >= 55:\n",
        "  grade = \"C\"\n",
        "elif nilai >= 40:\n",
        "  grade = \"D\"\n",
        "else:\n",
        "  grade = \"E\"\n",
        "print(f\"Nilai Anda {nilai}, maka grade Anda = {grade}\")"
      ],
      "metadata": {
        "colab": {
          "base_uri": "https://localhost:8080/"
        },
        "id": "KTqWILFhAiC8",
        "outputId": "d74a4bfe-fd41-4fa4-d89e-ef4608070449"
      },
      "execution_count": null,
      "outputs": [
        {
          "output_type": "stream",
          "name": "stdout",
          "text": [
            "Masukkan nilai akhir:78\n",
            "Nilai Anda 78, maka grade Anda = B\n"
          ]
        }
      ]
    },
    {
      "cell_type": "markdown",
      "source": [
        "# **Praktikum 04 - Nested If**"
      ],
      "metadata": {
        "id": "rDSWiFT6CE1o"
      }
    },
    {
      "cell_type": "code",
      "source": [
        "ipk=float(input(\"Masukkan IPK:\"))\n",
        "sks=int(input(\"Masukkan jumlah SKS:\"))\n",
        "\n",
        "if ipk >= 3.0:\n",
        "  if sks >= 18:\n",
        "    print(\"Anda LAYAK mendapat beasiswa\")\n",
        "  else:\n",
        "    print(\"IPK memenuhi, tapi SKS kurang\")\n",
        "else:\n",
        "  print(\"Anda TIDAK layak mendapat beasiswa\")"
      ],
      "metadata": {
        "colab": {
          "base_uri": "https://localhost:8080/"
        },
        "id": "-HM1rLfZ83F8",
        "outputId": "27d23ae4-8f28-4324-e9c1-4c3a84a156e1"
      },
      "execution_count": null,
      "outputs": [
        {
          "output_type": "stream",
          "name": "stdout",
          "text": [
            "Masukkan IPK:2.8\n",
            "Masukkan jumlah SKS:20\n",
            "Anda TIDAK layak mendapat beasiswa\n"
          ]
        }
      ]
    },
    {
      "cell_type": "markdown",
      "source": [
        "# **Praktikum 05 - Math Case**"
      ],
      "metadata": {
        "id": "tCajBo7RCLZq"
      }
    },
    {
      "cell_type": "code",
      "source": [
        "menu = int(input(\"Pilih menu (1-3):\"))\n",
        "\n",
        "match menu:\n",
        "  case 1:\n",
        "    print(\"Anda memilih Nasi Goreng\")\n",
        "  case 2:\n",
        "    print(\"Anda memilih Mie Ayam\")\n",
        "  case 3:\n",
        "    print(\"Anda memilih Soto Ayam\")\n",
        "  case _:\n",
        "    print(\"Menu tidak tersedia\")"
      ],
      "metadata": {
        "id": "-MqKozh3AdEQ",
        "colab": {
          "base_uri": "https://localhost:8080/"
        },
        "outputId": "b97d9cb8-bc37-484b-ccea-52b66a8507e5"
      },
      "execution_count": null,
      "outputs": [
        {
          "output_type": "stream",
          "name": "stdout",
          "text": [
            "Pilih menu (1-3):9\n",
            "Menu tidak tersedia\n"
          ]
        }
      ]
    },
    {
      "cell_type": "markdown",
      "source": [
        "# **Praktikum 06 - Studi Kasus: Program Kasir**"
      ],
      "metadata": {
        "id": "l4mra20sGEIW"
      }
    },
    {
      "cell_type": "code",
      "source": [
        "barang = input(\"Masukkan nama barang:\")\n",
        "harga = float(input(\"Masukkan harga barang:\"))\n",
        "jumlah = int(input(\"Masukkan jumlah barang:\"))\n",
        "total = harga*jumlah\n",
        "\n",
        "if total >= 500000:\n",
        "  diskon = 0.2\n",
        "elif total >= 250000:\n",
        "  diskon = 0.1\n",
        "else:\n",
        "  diskon = 0\n",
        "\n",
        "bayar = total - (total*diskon)\n",
        "\n",
        "print(\"\\n===== Struk Belanja =====\")\n",
        "print(f\"Barang : {barang}\")\n",
        "print(f\"Jumlah : {jumlah}\")\n",
        "print(f\"Total : Rp {total}\")\n",
        "print(f\"Diskon : {diskon*100}%\")\n",
        "print(f\"Bayar : Rp {bayar}\")"
      ],
      "metadata": {
        "colab": {
          "base_uri": "https://localhost:8080/"
        },
        "id": "2Z3UE7zMDdfU",
        "outputId": "dc621fe0-ad76-471e-af80-303036b5ffd8"
      },
      "execution_count": null,
      "outputs": [
        {
          "output_type": "stream",
          "name": "stdout",
          "text": [
            "Masukkan nama barang:Pulpen\n",
            "Masukkan harga barang:5000\n",
            "Masukkan jumlah barang:10\n",
            "\n",
            "===== Struk Belanja =====\n",
            "Barang : Pulpen\n",
            "Jumlah : 10\n",
            "Total : Rp 50000.0\n",
            "Diskon : 0%\n",
            "Bayar : Rp 50000.0\n"
          ]
        }
      ]
    },
    {
      "cell_type": "markdown",
      "source": [
        "# **Penugasan 1 - Cek Bilangan Positif/Negatif/Nol**"
      ],
      "metadata": {
        "id": "2uICd8lIbEDJ"
      }
    },
    {
      "cell_type": "code",
      "source": [
        "a=int(input(\"Masukkan angka:\"))\n",
        "\n",
        "if a > 0:\n",
        "  print(\"Angka bilangan positif\")\n",
        "elif a == 0:\n",
        "  print(\"Angka bilangan nol\")\n",
        "else:\n",
        "  print(\"Angka bilangan negatif\")"
      ],
      "metadata": {
        "id": "ZXHm2mFbHhUY",
        "colab": {
          "base_uri": "https://localhost:8080/"
        },
        "outputId": "4cacb810-ce40-4a2b-abce-a1c8349d5b5b"
      },
      "execution_count": null,
      "outputs": [
        {
          "output_type": "stream",
          "name": "stdout",
          "text": [
            "Masukkan angka:4\n",
            "Angka bilangan positif\n"
          ]
        }
      ]
    },
    {
      "cell_type": "markdown",
      "source": [
        "# **Penugasan 2 - Menentukan Kategori Usia**"
      ],
      "metadata": {
        "id": "EI7EkZnJVLFr"
      }
    },
    {
      "cell_type": "code",
      "source": [
        "a=int(input(\"Masukkan usia:\"))\n",
        "\n",
        "if a < 6:\n",
        "  print(f'{a} usia balita')\n",
        "elif a > 5 and a < 12:\n",
        "  print(f'{a} usia anak-anak')\n",
        "elif a > 11 and a <18:\n",
        "  print(f'{a} usia remaja')\n",
        "elif a > 17 and a <60:\n",
        "  print(f'{a} usia dewasa')\n",
        "else:\n",
        "  print(f'{a} usia lansia')"
      ],
      "metadata": {
        "colab": {
          "base_uri": "https://localhost:8080/"
        },
        "id": "6DKNbrhmUwxw",
        "outputId": "8730296c-2c66-4f14-f8a7-b66b5e5147e2"
      },
      "execution_count": null,
      "outputs": [
        {
          "output_type": "stream",
          "name": "stdout",
          "text": [
            "Masukkan usia:80\n",
            "80 usia lansia\n"
          ]
        }
      ]
    },
    {
      "cell_type": "markdown",
      "source": [
        "# **Penugasan 3 : Menghitung Tarif Pakir**"
      ],
      "metadata": {
        "id": "Yv_Ma9asXUFy"
      }
    },
    {
      "cell_type": "code",
      "source": [
        "lama_parkir=int(input(\"Masukkan lama parkir:\"))\n",
        "\n",
        "if lama_parkir <= 2:\n",
        "  tarif = 5000\n",
        "elif lama_parkir >2:\n",
        "  tarif = 5000 + (lama_parkir-2) *2000\n",
        "  if tarif > 20000:\n",
        "    tarif = 20000\n",
        "\n",
        "else:\n",
        "  tarif = 0\n",
        "\n",
        "print(f\"Tarif parki Anda adalah: Rp\", tarif)"
      ],
      "metadata": {
        "colab": {
          "base_uri": "https://localhost:8080/"
        },
        "id": "HV0BQ9t-WN08",
        "outputId": "9c794007-ae59-47df-e0b9-d17e9c9dfee1"
      },
      "execution_count": null,
      "outputs": [
        {
          "output_type": "stream",
          "name": "stdout",
          "text": [
            "Masukkan lama parkir:5\n",
            "Tarif parki Anda adalah: Rp 11000\n"
          ]
        }
      ]
    },
    {
      "cell_type": "markdown",
      "source": [
        "# **Penugasan 4: Cek Login Sederhana**"
      ],
      "metadata": {
        "id": "kZCYjj4bbkKb"
      }
    },
    {
      "cell_type": "code",
      "source": [
        "username=input(\"Masukkan username Anda:\")\n",
        "password=input(\"Masukkan password Anda:\")\n",
        "\n",
        "if username == \"Admin\" and password == \"1234\":\n",
        "  print(\"Login berhasil\")\n",
        "else:\n",
        "  print(\"Login gagal\")"
      ],
      "metadata": {
        "colab": {
          "base_uri": "https://localhost:8080/"
        },
        "id": "-jzgNQ0BanRV",
        "outputId": "9dd343eb-32b6-4440-d026-eef75b3aa698"
      },
      "execution_count": null,
      "outputs": [
        {
          "output_type": "stream",
          "name": "stdout",
          "text": [
            "Masukkan username Anda:Admin\n",
            "Masukkan password Anda:1234\n",
            "Login berhasil\n"
          ]
        }
      ]
    },
    {
      "cell_type": "markdown",
      "source": [
        "# **Penugasan 5 - Cek Genap / Ganjil**"
      ],
      "metadata": {
        "id": "ipjQE5dqdMFE"
      }
    },
    {
      "cell_type": "code",
      "source": [
        "  bilangan=int(input(\"Masukkan angka:\"))\n",
        "\n",
        "  if bilangan % 2 == 0:\n",
        "    print(\"Angka Genap\")\n",
        "  else:\n",
        "    print(\"Angka Ganjil\")"
      ],
      "metadata": {
        "colab": {
          "base_uri": "https://localhost:8080/"
        },
        "id": "vXBB7gkrc-o9",
        "outputId": "0a44f72b-e690-4204-aa1a-38c04e64609f"
      },
      "execution_count": null,
      "outputs": [
        {
          "output_type": "stream",
          "name": "stdout",
          "text": [
            "Masukkan angka:4\n",
            "Angka Genap\n"
          ]
        }
      ]
    },
    {
      "cell_type": "markdown",
      "source": [
        "# **Penugasan 6 - Menu Restoran dengan Match Case**"
      ],
      "metadata": {
        "id": "J1U99Wvsffer"
      }
    },
    {
      "cell_type": "code",
      "source": [
        "menu = int(input(\"Pilih menu (1-3):\"))\n",
        "\n",
        "match menu:\n",
        "  case 1:\n",
        "    print(\"Anda memilih Nasi Goreng\")\n",
        "  case 2:\n",
        "    print(\"Anda memilih Mie Ayam\")\n",
        "  case 3:\n",
        "    print(\"Anda memilih Soto Ayam\")\n",
        "  case _:\n",
        "    print(\"Menu tidak tersedia\")"
      ],
      "metadata": {
        "colab": {
          "base_uri": "https://localhost:8080/"
        },
        "id": "iQDUwdP-elXv",
        "outputId": "eb122ab8-46fb-40a8-b258-62e68e91a4d7"
      },
      "execution_count": null,
      "outputs": [
        {
          "output_type": "stream",
          "name": "stdout",
          "text": [
            "Pilih menu (1-3):3\n",
            "Anda memilih Soto Ayam\n"
          ]
        }
      ]
    },
    {
      "cell_type": "markdown",
      "source": [
        "# **Penugasan 7 - Program Penentuan Diskon**"
      ],
      "metadata": {
        "id": "IS9rT7GKfwFK"
      }
    },
    {
      "cell_type": "code",
      "source": [
        "barang = input(\"Masukkan nama barang:\")\n",
        "harga = float(input(\"Masukkan harga barang:\"))\n",
        "jumlah = int(input(\"Masukkan jumlah barang:\"))\n",
        "total = harga*jumlah\n",
        "\n",
        "if total >= 500000:\n",
        "  diskon = 0.2\n",
        "elif total >= 250000:\n",
        "  diskon = 0.1\n",
        "else:\n",
        "  diskon = 0\n",
        "\n",
        "jumlah_bayar = total - (total*diskon)\n",
        "\n",
        "print(\"\\n===== Struk Belanja =====\")\n",
        "print(f\"Barang : {barang}\")\n",
        "print(f\"Jumlah : {jumlah}\")\n",
        "print(f\"Total : Rp {total}\")\n",
        "print(f\"Diskon : {diskon*100}%\")\n",
        "print(f\"Bayar : Rp {jumlah_bayar}\")"
      ],
      "metadata": {
        "colab": {
          "base_uri": "https://localhost:8080/"
        },
        "id": "hclYk06IfYJ3",
        "outputId": "aeb81ad1-e958-44cd-f59b-9dc3dc5bdb3d"
      },
      "execution_count": null,
      "outputs": [
        {
          "output_type": "stream",
          "name": "stdout",
          "text": [
            "Masukkan nama barang:Gelas\n",
            "Masukkan harga barang:10000\n",
            "Masukkan jumlah barang:15\n",
            "\n",
            "===== Struk Belanja =====\n",
            "Barang : Gelas\n",
            "Jumlah : 15\n",
            "Total : Rp 150000.0\n",
            "Diskon : 0%\n",
            "Bayar : Rp 150000.0\n"
          ]
        }
      ]
    },
    {
      "cell_type": "code",
      "source": [],
      "metadata": {
        "id": "ufMU-O6Cgg4-"
      },
      "execution_count": null,
      "outputs": []
    }
  ]
}