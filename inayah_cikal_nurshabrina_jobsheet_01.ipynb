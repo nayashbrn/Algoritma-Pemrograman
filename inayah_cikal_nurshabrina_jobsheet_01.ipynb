{
  "nbformat": 4,
  "nbformat_minor": 0,
  "metadata": {
    "colab": {
      "provenance": [],
      "include_colab_link": true
    },
    "kernelspec": {
      "name": "python3",
      "display_name": "Python 3"
    },
    "language_info": {
      "name": "python"
    }
  },
  "cells": [
    {
      "cell_type": "markdown",
      "metadata": {
        "id": "view-in-github",
        "colab_type": "text"
      },
      "source": [
        "<a href=\"https://colab.research.google.com/github/nayashbrn/Algoritma-Pemrograman/blob/main/inayah_cikal_nurshabrina_jobsheet_01.ipynb\" target=\"_parent\"><img src=\"https://colab.research.google.com/assets/colab-badge.svg\" alt=\"Open In Colab\"/></a>"
      ]
    },
    {
      "cell_type": "markdown",
      "source": [
        "**Praktikum 01. Menghitung Luas Persegi Panjang**"
      ],
      "metadata": {
        "id": "UNAjAYj9RZgR"
      }
    },
    {
      "cell_type": "code",
      "source": [
        "p = int(input(\"Masukkan panjang: \"))\n",
        "l = int(input(\"Masukkan lebar: \"))\n",
        "luas = p * l\n",
        "print(\"Luas persegi panjang =\", luas)"
      ],
      "metadata": {
        "colab": {
          "base_uri": "https://localhost:8080/"
        },
        "id": "BXDLvyzsSjN9",
        "outputId": "f76085d9-eca6-421e-c924-c39747241e19"
      },
      "execution_count": null,
      "outputs": [
        {
          "output_type": "stream",
          "name": "stdout",
          "text": [
            "Masukkan panjang: 5\n",
            "Masukkan lebar: 4\n",
            "Luas persegi panjang = 20\n"
          ]
        }
      ]
    },
    {
      "cell_type": "markdown",
      "source": [
        "**Praktikum 02. Menghitung Luas Segitiga (Rumus Heron)**"
      ],
      "metadata": {
        "id": "dqhd5DmwTT4_"
      }
    },
    {
      "cell_type": "code",
      "source": [
        "import math\n",
        "\n",
        "a = float(input(\"Masukkan sisi a: \"))\n",
        "b = float(input(\"Masukkan sisi b: \"))\n",
        "c = float(input(\"Masukkan sisi c: \"))\n",
        "\n",
        "s = (a + b + c) / 2\n",
        "luas = math.sqrt(s * (s - a) * (s-b) * (s-c))\n",
        "print(\"Luas segitiga =\", luas)"
      ],
      "metadata": {
        "colab": {
          "base_uri": "https://localhost:8080/"
        },
        "id": "Ivsopr9VSsbP",
        "outputId": "bbfd6936-b34f-4196-e2b4-62ed01c0fc0f"
      },
      "execution_count": null,
      "outputs": [
        {
          "output_type": "stream",
          "name": "stdout",
          "text": [
            "Masukkan sisi a: 3\n",
            "Masukkan sisi b: 4\n",
            "Masukkan sisi c: 5\n",
            "Luas segitiga = 6.0\n"
          ]
        }
      ]
    },
    {
      "cell_type": "markdown",
      "source": [
        "**Praktikum 03. Konversi Suhu Celcius ke Fahrenheit**"
      ],
      "metadata": {
        "id": "bgADfLbIUW4V"
      }
    },
    {
      "cell_type": "code",
      "execution_count": null,
      "metadata": {
        "colab": {
          "base_uri": "https://localhost:8080/"
        },
        "id": "Db8abXVHRXET",
        "outputId": "7b598a96-9c80-426e-8150-f1fb2fceab2e"
      },
      "outputs": [
        {
          "output_type": "stream",
          "name": "stdout",
          "text": [
            "Masukkan suhu (c): 25\n",
            "Hasil konversi = 77.0 F\n"
          ]
        }
      ],
      "source": [
        "c = float(input(\"Masukkan suhu (c): \"))\n",
        "f = (c*9/5) + 32\n",
        "print(\"Hasil konversi =\", f, \"F\")"
      ]
    },
    {
      "cell_type": "markdown",
      "source": [
        "**Praktikum 04. Menghitung Umur Berdasarkan Tahun Lahir**"
      ],
      "metadata": {
        "id": "1CODcsymVIuH"
      }
    },
    {
      "cell_type": "code",
      "source": [
        "tahun_lahir = int(input(\"Masukkan tahun lahir: \"))\n",
        "tahun_sekarang = 2025\n",
        "umur = tahun_sekarang - tahun_lahir\n",
        "print(\"Umur anda =\", umur, \"tahun\")"
      ],
      "metadata": {
        "colab": {
          "base_uri": "https://localhost:8080/"
        },
        "id": "oCC4L4e1U20k",
        "outputId": "b810eac3-ffe8-4354-be47-13250d477ea4"
      },
      "execution_count": null,
      "outputs": [
        {
          "output_type": "stream",
          "name": "stdout",
          "text": [
            "Masukkan tahun lahir: 2005\n",
            "Umur anda = 20 tahun\n"
          ]
        }
      ]
    },
    {
      "cell_type": "markdown",
      "source": [
        "**Praktikum 05. Menghitung Luas Lingkaran**"
      ],
      "metadata": {
        "id": "T2HqwTWUVzFy"
      }
    },
    {
      "cell_type": "code",
      "source": [
        "import math\n",
        "r = float(input(\"Masukkan jari-jari lingkaran: \"))\n",
        "luas = math.pi * r * r\n",
        "print(\"Luas lingkaran =\", luas)"
      ],
      "metadata": {
        "colab": {
          "base_uri": "https://localhost:8080/"
        },
        "id": "dL7x8HJnVXb-",
        "outputId": "1a9a7319-1a81-4605-888f-d2826d4f9433"
      },
      "execution_count": null,
      "outputs": [
        {
          "output_type": "stream",
          "name": "stdout",
          "text": [
            "Masukkan jari-jari lingkaran: 4\n",
            "Luas lingkaran = 50.26548245743669\n"
          ]
        }
      ]
    },
    {
      "cell_type": "markdown",
      "source": [
        "**Praktikum 06. Menjumlahkan Tiga Bilangan**"
      ],
      "metadata": {
        "id": "xVQoI55jp_Vx"
      }
    },
    {
      "cell_type": "code",
      "source": [
        "a = int(input(\"Masukkan bilangan pertama: \"))\n",
        "b = int(input(\"Masukkan bilangan kedua: \"))\n",
        "c = int(input(\"Masukkan bilangan ketiga: \"))\n",
        "jumlah = a + b + c\n",
        "print(\"jumlah =\", jumlah)"
      ],
      "metadata": {
        "colab": {
          "base_uri": "https://localhost:8080/"
        },
        "id": "pJ7W333dWIPN",
        "outputId": "40136a01-52d0-46e1-bc8a-a4134c3c6b84"
      },
      "execution_count": null,
      "outputs": [
        {
          "output_type": "stream",
          "name": "stdout",
          "text": [
            "Masukkan bilangan pertama: 2\n",
            "Masukkan bilangan kedua: 4\n",
            "Masukkan bilangan ketiga: 6\n",
            "jumlah = 12\n"
          ]
        }
      ]
    },
    {
      "cell_type": "markdown",
      "source": [
        "**Penugasan Menghitung Volume Balok**"
      ],
      "metadata": {
        "id": "t2wJSdhuzAOx"
      }
    },
    {
      "cell_type": "code",
      "source": [
        "p = int(input(\"Masukkan panjang: \"))\n",
        "l = int(input(\"Masukkan lebar: \"))\n",
        "t = int(input(\"Masukkan tinggi: \"))\n",
        "volume = p*l*t\n",
        "print(\"volume =\", volume)"
      ],
      "metadata": {
        "colab": {
          "base_uri": "https://localhost:8080/"
        },
        "id": "Cu8azmOHqNPL",
        "outputId": "f0636280-5b0f-4649-fbf4-49503910d360"
      },
      "execution_count": null,
      "outputs": [
        {
          "output_type": "stream",
          "name": "stdout",
          "text": [
            "Masukkan panjang: 5\n",
            "Masukkan lebar: 4\n",
            "Masukkan tinggi: 8\n",
            "volume = 160\n"
          ]
        }
      ]
    },
    {
      "cell_type": "markdown",
      "source": [
        "**Penugasan Konversi Waktu** **(Detik ke Jam:Menit:Detik)**"
      ],
      "metadata": {
        "id": "PZpYnVoorY3M"
      }
    },
    {
      "cell_type": "code",
      "source": [
        "total_detik = int(input(\"Masukkan total detik: \"))\n",
        "jam = total_detik // 3600\n",
        "sisa = total_detik % 3600\n",
        "menit = sisa // 60\n",
        "detik = sisa % 60\n",
        "\n",
        "print(\"Hasil konversi waktunya adalah \", jam, \"jam\", menit, \"menit\",detik,\"detik\")"
      ],
      "metadata": {
        "id": "XSDt0UH4zU-f",
        "colab": {
          "base_uri": "https://localhost:8080/"
        },
        "outputId": "5c229f21-57c6-4fc9-e69c-761d5b6f34dd"
      },
      "execution_count": null,
      "outputs": [
        {
          "output_type": "stream",
          "name": "stdout",
          "text": [
            "Masukkan total detik: 3670\n",
            "Hasil konversi waktunya adalah  1 jam 1 menit 10 detik\n"
          ]
        }
      ]
    },
    {
      "cell_type": "markdown",
      "source": [
        "**Penugasan Rata - Rata Nilai Tiga Mata Kuliah**"
      ],
      "metadata": {
        "id": "fekiTZflrxHK"
      }
    },
    {
      "cell_type": "code",
      "source": [
        "# Memasukkan total detik dari pengguna\n",
        "totaldetik = int(input(\"Masukkan total detik: \"))\n",
        "\n",
        "# Proses perhitungan\n",
        "jam = totaldetik // 3600        # Hitung jumlah jam\n",
        "sisa = totaldetik % 3600        # Sisa setelah jam\n",
        "menit = sisa // 60              # Hitung jumlah menit\n",
        "detik = sisa % 60               # Sisa detik\n",
        "\n",
        "# Menampilkan hasil konversi\n",
        "print(f\"Hasil konversi waktu = {jam} jam {menit} menit {detik} detik\")\n"
      ],
      "metadata": {
        "colab": {
          "base_uri": "https://localhost:8080/"
        },
        "id": "fdSsh0StYEBJ",
        "outputId": "cefa2359-8021-415e-9572-b73f78ae1ca0"
      },
      "execution_count": null,
      "outputs": [
        {
          "output_type": "stream",
          "name": "stdout",
          "text": [
            "Masukkan total detik: 3670\n",
            "Hasil konversi waktu = 1 jam 1 menit 10 detik\n"
          ]
        }
      ]
    },
    {
      "cell_type": "markdown",
      "source": [
        "**Penugasan menghitung rata-rata nilai tiga mata kuliah dan menentukan kelulusan**"
      ],
      "metadata": {
        "id": "qDZhDtVDa2yA"
      }
    },
    {
      "cell_type": "code",
      "source": [
        "# Input nilai\n",
        "nilai1 = float(input(\"Masukkan nilai mata kuliah 1: \"))\n",
        "nilai2 = float(input(\"Masukkan nilai mata kuliah 2: \"))\n",
        "nilai3 = float(input(\"Masukkan nilai mata kuliah 3: \"))\n",
        "\n",
        "# Hitung rata-rata\n",
        "rata = (nilai1 + nilai2 + nilai3) / 3\n",
        "\n",
        "# Output hasil\n",
        "print(\"Rata-rata: \", rata)\n",
        "if rata >= 60:\n",
        "  print(\"Keterangan: Lulus\")\n",
        "else:\n",
        "  print(\"Keterangan: Tidak Lulus\")"
      ],
      "metadata": {
        "id": "3cvhkQyVavc3",
        "colab": {
          "base_uri": "https://localhost:8080/"
        },
        "outputId": "bc3d0ad1-e4cf-483f-94e0-bd77e40d5c53"
      },
      "execution_count": null,
      "outputs": [
        {
          "output_type": "stream",
          "name": "stdout",
          "text": [
            "Masukkan nilai mata kuliah 1: 50\n",
            "Masukkan nilai mata kuliah 2: 45\n",
            "Masukkan nilai mata kuliah 3: 21\n",
            "Rata-rata:  38.666666666666664\n",
            "Keterangan: Tidak Lulus\n"
          ]
        }
      ]
    },
    {
      "cell_type": "markdown",
      "source": [
        "**Penugasan Menghitung Diskon Belanja**\n",
        "\n"
      ],
      "metadata": {
        "id": "YGGTIg8LsRME"
      }
    },
    {
      "cell_type": "code",
      "source": [
        "# Input total belanja\n",
        "total_belanja = float(input(\"Masukkan total belanja: Rp \"))\n",
        "\n",
        "# Proses diskon\n",
        "if total_belanja >= 500000:\n",
        "    diskon = 0.2 * total_belanja\n",
        "elif total_belanja >= 250000:\n",
        "    diskon = 0.1 * total_belanja\n",
        "else:\n",
        "    diskon = 0\n",
        "\n",
        "# Hitung total bayar\n",
        "total_bayar = total_belanja - diskon\n",
        "\n",
        "# Output\n",
        "print(\"Diskon     :\", diskon)\n",
        "print(\"Total Bayar:\", total_bayar)"
      ],
      "metadata": {
        "colab": {
          "base_uri": "https://localhost:8080/"
        },
        "id": "DPEg3fTdPzx7",
        "outputId": "f882ecd5-d429-49bc-b136-5e7915bf9368"
      },
      "execution_count": null,
      "outputs": [
        {
          "output_type": "stream",
          "name": "stdout",
          "text": [
            "Masukkan total belanja: Rp 150000\n",
            "Diskon     : 0\n",
            "Total Bayar: 150000.0\n"
          ]
        }
      ]
    }
  ]
}