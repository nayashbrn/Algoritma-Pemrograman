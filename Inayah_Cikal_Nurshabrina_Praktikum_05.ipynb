{
  "nbformat": 4,
  "nbformat_minor": 0,
  "metadata": {
    "colab": {
      "provenance": [],
      "authorship_tag": "ABX9TyP7IjbMYwyxKBcqyDSoLvSL",
      "include_colab_link": true
    },
    "kernelspec": {
      "name": "python3",
      "display_name": "Python 3"
    },
    "language_info": {
      "name": "python"
    }
  },
  "cells": [
    {
      "cell_type": "markdown",
      "metadata": {
        "id": "view-in-github",
        "colab_type": "text"
      },
      "source": [
        "<a href=\"https://colab.research.google.com/github/nayashbrn/Algoritma-Pemrograman/blob/main/Inayah_Cikal_Nurshabrina_Praktikum_05.ipynb\" target=\"_parent\"><img src=\"https://colab.research.google.com/assets/colab-badge.svg\" alt=\"Open In Colab\"/></a>"
      ]
    },
    {
      "cell_type": "markdown",
      "source": [
        "# **PRAKTIKUM 01 - INDEXING DAN SLICING**"
      ],
      "metadata": {
        "id": "_mTETSKAoRqN"
      }
    },
    {
      "cell_type": "code",
      "execution_count": null,
      "metadata": {
        "colab": {
          "base_uri": "https://localhost:8080/"
        },
        "outputId": "fdba1960-7252-4c39-9428-d427fa175dee",
        "id": "Z9QIJFhAw-54"
      },
      "outputs": [
        {
          "output_type": "stream",
          "name": "stdout",
          "text": [
            "P\n",
            "Politeknik \n",
            "Semarang\n"
          ]
        }
      ],
      "source": [
        "teks=\"Politeknik Negeri Semarang\"\n",
        "print (teks[0])    #'P'\n",
        "print (teks[0:11]) #'Politeknik'\n",
        "print (teks[-8:])  #'Semarang'"
      ]
    },
    {
      "cell_type": "markdown",
      "source": [
        "# **PRAKTIKUM 02 - METHOD BAWAAN STRING**"
      ],
      "metadata": {
        "id": "Dbm7m0wWpCKC"
      }
    },
    {
      "cell_type": "code",
      "source": [
        "teks=\" Politeknik Negeri Semarang \"\n",
        "print(teks.upper())\n",
        "print(teks.lower())\n",
        "print(teks.title())\n",
        "print(teks.strip())\n",
        "print(teks.split(\" \"))\n",
        "print(\"-\".join([\"Politeknik\",\"Negeri\",\"Semarang\"]))"
      ],
      "metadata": {
        "colab": {
          "base_uri": "https://localhost:8080/"
        },
        "id": "qp1agctpouZm",
        "outputId": "52cf2e56-9ba0-4233-e468-ae3e1d3e3283"
      },
      "execution_count": null,
      "outputs": [
        {
          "output_type": "stream",
          "name": "stdout",
          "text": [
            " POLITEKNIK NEGERI SEMARANG \n",
            " politeknik negeri semarang \n",
            " Politeknik Negeri Semarang \n",
            "Politeknik Negeri Semarang\n",
            "['', 'Politeknik', 'Negeri', 'Semarang', '']\n",
            "Politeknik-Negeri-Semarang\n"
          ]
        }
      ]
    },
    {
      "cell_type": "markdown",
      "source": [
        "# **PRAKTIKUM 03 - VALIDASI PASSWORD**"
      ],
      "metadata": {
        "id": "II5rEix5pqjj"
      }
    },
    {
      "cell_type": "code",
      "source": [
        "password=input(\"Masukkan password:\")\n",
        "\n",
        "if len(password) >= 8:\n",
        "  print(\"Password valid\")\n",
        "else:\n",
        "  print(\"Password terlalu pendek\")"
      ],
      "metadata": {
        "colab": {
          "base_uri": "https://localhost:8080/"
        },
        "id": "JlRqJsbQpg_C",
        "outputId": "21b99442-3593-44fb-92ac-2b188321bdcf"
      },
      "execution_count": null,
      "outputs": [
        {
          "output_type": "stream",
          "name": "stdout",
          "text": [
            "Masukkan password:python123\n",
            "Password valid\n"
          ]
        }
      ]
    },
    {
      "cell_type": "code",
      "source": [
        "password=input(\"Masukkan password:\")\n",
        "\n",
        "if len(password) >= 8:\n",
        "  print(\"Password valid\")\n",
        "else:\n",
        "  print(\"Password terlalu pendek\")"
      ],
      "metadata": {
        "colab": {
          "base_uri": "https://localhost:8080/"
        },
        "outputId": "7a1b4339-5383-432a-a28a-730ff0574a9c",
        "id": "taLvPcYDyTgH"
      },
      "execution_count": null,
      "outputs": [
        {
          "output_type": "stream",
          "name": "stdout",
          "text": [
            "Masukkan password:abc\n",
            "Password terlalu pendek\n"
          ]
        }
      ]
    },
    {
      "cell_type": "markdown",
      "source": [
        "# **PRAKTIKUM 04 - STRING FORMATTING DENGAN F-STRING**"
      ],
      "metadata": {
        "id": "NnJYfy8-uMz3"
      }
    },
    {
      "cell_type": "code",
      "source": [
        "nama=input(\"Masukkan nama:\")\n",
        "umur=int(input(\"Masukkan umur:\"))\n",
        "\n",
        "print(f\"Nama saya {nama}, umur {umur} tahun.\")"
      ],
      "metadata": {
        "colab": {
          "base_uri": "https://localhost:8080/"
        },
        "id": "SvrDF_NouHMr",
        "outputId": "410214a2-a1ea-4d05-cbcd-35615f59c930"
      },
      "execution_count": null,
      "outputs": [
        {
          "output_type": "stream",
          "name": "stdout",
          "text": [
            "Masukkan nama:Budi\n",
            "Masukkan umur:21\n",
            "Nama saya Budi, umur 21 tahun.\n"
          ]
        }
      ]
    },
    {
      "cell_type": "markdown",
      "source": [
        "# **PRAKTIKUM 05 - OPERASI DALAM F-STRING**"
      ],
      "metadata": {
        "id": "l_7sJYk2ukfC"
      }
    },
    {
      "cell_type": "code",
      "source": [
        "a=int(input(\"Masukkan nilai a:\"))\n",
        "b=int(input(\"Masukkan nilai b:\"))\n",
        "\n",
        "print(f\"Hasil penjumlahan {a}+{b} = {a+b}\")\n",
        "print(f\"Hasil pembagian {a}/{b} = {a/b:.2f}\")"
      ],
      "metadata": {
        "colab": {
          "base_uri": "https://localhost:8080/"
        },
        "id": "6MuXIp6Qufbc",
        "outputId": "d095c0ce-858b-4d09-9d3c-17b83d400f6f"
      },
      "execution_count": null,
      "outputs": [
        {
          "output_type": "stream",
          "name": "stdout",
          "text": [
            "Masukkan nilai a:10\n",
            "Masukkan nilai b:3\n",
            "Hasil penjumlahan 10+3 = 13\n",
            "Hasil pembagian 10/3 = 3.33\n"
          ]
        }
      ]
    },
    {
      "cell_type": "markdown",
      "source": [
        "# **PRAKTIKUM 06 - CASTING STRING**"
      ],
      "metadata": {
        "id": "nY3wzeBIvLXy"
      }
    },
    {
      "cell_type": "code",
      "source": [
        "angka=123\n",
        "teks=\"456\"\n",
        "\n",
        "print(\"Nilai: \" + str(angka))\n",
        "print(int(teks)+10)"
      ],
      "metadata": {
        "colab": {
          "base_uri": "https://localhost:8080/"
        },
        "id": "kfWXwTG9vAfe",
        "outputId": "afc52c70-4eaa-4190-fb1c-7ced8ad129a5"
      },
      "execution_count": null,
      "outputs": [
        {
          "output_type": "stream",
          "name": "stdout",
          "text": [
            "Nilai: 123\n",
            "466\n"
          ]
        }
      ]
    },
    {
      "cell_type": "markdown",
      "source": [
        "# **PRAKTIKUM 07 - STUDI KASUS NYATA : ANALISIS KALIMAT**"
      ],
      "metadata": {
        "id": "kkEkyjUZvgat"
      }
    },
    {
      "cell_type": "code",
      "source": [
        "kalimat=\"Saya kuliah di Politeknik Negeri Semarang\"\n",
        "daftar_kata=kalimat.split(\" \")\n",
        "\n",
        "print(f\"Jumlah kata: {len(daftar_kata)}\")\n",
        "for i, kata in enumerate(daftar_kata, start=1):\n",
        "  print(i, kata)"
      ],
      "metadata": {
        "colab": {
          "base_uri": "https://localhost:8080/"
        },
        "id": "ZTu6aifLvak7",
        "outputId": "2dcd063a-e71d-485c-e3d7-0d5749569197"
      },
      "execution_count": null,
      "outputs": [
        {
          "output_type": "stream",
          "name": "stdout",
          "text": [
            "Jumlah kata: 6\n",
            "1 Saya\n",
            "2 kuliah\n",
            "3 di\n",
            "4 Politeknik\n",
            "5 Negeri\n",
            "6 Semarang\n"
          ]
        }
      ]
    },
    {
      "cell_type": "markdown",
      "source": [
        "# **PENUGASAN 01 - INDEXING DAN SLICING**"
      ],
      "metadata": {
        "id": "hc4fhWzMSkZQ"
      }
    },
    {
      "cell_type": "code",
      "source": [
        "teks=\"Politeknik Negeri Semarang\"\n",
        "print (teks[0])    #'P'\n",
        "print (teks[-1])   #'g'\n",
        "print (teks[11:18:])  #'Negeri'"
      ],
      "metadata": {
        "id": "AchoQmA7wAdh",
        "colab": {
          "base_uri": "https://localhost:8080/"
        },
        "outputId": "95d00e8b-8c1e-4ce7-a964-971804d8a67e"
      },
      "execution_count": 3,
      "outputs": [
        {
          "output_type": "stream",
          "name": "stdout",
          "text": [
            "P\n",
            "g\n",
            "Negeri \n"
          ]
        }
      ]
    },
    {
      "cell_type": "markdown",
      "source": [
        "# **PENUGASAN 02 - MANIPULASI STRING**"
      ],
      "metadata": {
        "id": "eZ2dhyhnTtFo"
      }
    },
    {
      "cell_type": "code",
      "source": [
        "kalimat = input(\"Masukkan sebuah kalimat: \")\n",
        "\n",
        "kapital = kalimat.upper()\n",
        "kecil = kalimat.lower()\n",
        "panjang = len(kalimat)\n",
        "\n",
        "print(\"\\n=== HASIL ===\")\n",
        "print(\"Huruf kapital :\", kapital)\n",
        "print(\"Huruf kecil   :\", kecil)\n",
        "print(\"Panjang kalimat:\", panjang)\n"
      ],
      "metadata": {
        "colab": {
          "base_uri": "https://localhost:8080/"
        },
        "id": "WK3dYiESTKa-",
        "outputId": "2c77e223-c800-499f-c81a-2e5c917a2f30"
      },
      "execution_count": 9,
      "outputs": [
        {
          "output_type": "stream",
          "name": "stdout",
          "text": [
            "Masukkan sebuah kalimat: Polines Jaya\n",
            "\n",
            "=== HASIL ===\n",
            "Huruf kapital : POLINES JAYA\n",
            "Huruf kecil   : polines jaya\n",
            "Panjang kalimat: 12\n"
          ]
        }
      ]
    },
    {
      "cell_type": "markdown",
      "source": [
        "# **PENUGASAN 03 - VALIDASI USERNAME**"
      ],
      "metadata": {
        "id": "X7j0NA3qWBWJ"
      }
    },
    {
      "cell_type": "code",
      "source": [
        "username=input(\"Masukkan username:\")\n",
        "\n",
        "if \" \" in username:\n",
        "  print(\"Error: Username tidak boleh mengandung spasi!\")\n",
        "else:\n",
        "  print(\"Username valid.\")"
      ],
      "metadata": {
        "colab": {
          "base_uri": "https://localhost:8080/"
        },
        "id": "Q2Kq81t0UoXp",
        "outputId": "c8da506a-83a1-4885-b921-2d99ab48bd8b"
      },
      "execution_count": 10,
      "outputs": [
        {
          "output_type": "stream",
          "name": "stdout",
          "text": [
            "Masukkan username:inayah cikal\n",
            "Error: Username tidak boleh mengandung spasi!\n"
          ]
        }
      ]
    },
    {
      "cell_type": "markdown",
      "source": [
        "# **PENUGASAN 04 - STRING FORMATTING DENGAN F-STRING**"
      ],
      "metadata": {
        "id": "rwhL0VW_Wurp"
      }
    },
    {
      "cell_type": "code",
      "source": [
        "nama=input(\"Masukkan nama:\")\n",
        "umur=int(input(\"Masukkan umur:\"))\n",
        "jurusan=input(\"Masukkan urusan:\")\n",
        "\n",
        "print(f\"Nama     :{nama}\")\n",
        "print(f\"Umur     :{umur}\")\n",
        "print(f\"Jurusan  :{jurusan}\")"
      ],
      "metadata": {
        "colab": {
          "base_uri": "https://localhost:8080/"
        },
        "id": "85HUAxHdWm9I",
        "outputId": "65ee821f-1387-4fba-deec-8c2f5284c41f"
      },
      "execution_count": 13,
      "outputs": [
        {
          "output_type": "stream",
          "name": "stdout",
          "text": [
            "Masukkan nama:Andi\n",
            "Masukkan umur:20\n",
            "Masukkan urusan:Teknologi Rekayasa Komputer\n",
            "Nama     :Andi\n",
            "Umur     :20\n",
            "Jurusan  :Teknologi Rekayasa Komputer\n"
          ]
        }
      ]
    },
    {
      "cell_type": "markdown",
      "source": [
        "# **PENUGASAN 05 - OPERASI DALAM F-STRING**"
      ],
      "metadata": {
        "id": "7ZFMe6lgYKS5"
      }
    },
    {
      "cell_type": "code",
      "source": [
        "a=int(input(\"Masukkan nilai a:\"))\n",
        "b=int(input(\"Masukkan nilai b:\"))\n",
        "\n",
        "print(f\"Hasil penjumlahan {a}+{b} = {a+b}\")\n",
        "print(f\"Hasil perkalian {a}*{b} = {a*b}\")\n",
        "print(f\"Hasil pembagian {a}/{b} = {a/b:.3f}\")"
      ],
      "metadata": {
        "colab": {
          "base_uri": "https://localhost:8080/"
        },
        "id": "DEk9tZwCXBBb",
        "outputId": "3eebb174-b57c-43dd-c0ba-5e4e362b6781"
      },
      "execution_count": 14,
      "outputs": [
        {
          "output_type": "stream",
          "name": "stdout",
          "text": [
            "Masukkan nilai a:10\n",
            "Masukkan nilai b:4\n",
            "Hasil penjumlahan 10+4 = 14\n",
            "Hasil perkalian 10*4 = 40\n",
            "Hasil pembagian 10/4 = 2.500\n"
          ]
        }
      ]
    },
    {
      "cell_type": "markdown",
      "source": [
        "# **PENUGASAN 06 - CASTING DATA**"
      ],
      "metadata": {
        "id": "cnACh_XXZap0"
      }
    },
    {
      "cell_type": "code",
      "source": [
        "angka_str = input(\"Masukkan sebuah angka: \")\n",
        "\n",
        "# Ubah ke integer\n",
        "angka_int = int(angka_str)\n",
        "kuadrat = angka_int ** 2\n",
        "\n",
        "# Ubah ke float\n",
        "angka_float = float(angka_str)\n",
        "\n",
        "print(f\"Kuadrat dari {angka_int} adalah {kuadrat}\")\n",
        "print(f\"Angka dalam bentuk float: {angka_float:.2f}\")\n"
      ],
      "metadata": {
        "colab": {
          "base_uri": "https://localhost:8080/"
        },
        "id": "1xzjRkR-Y0Zy",
        "outputId": "1b1e50bb-3c4d-4685-8466-f436ab55ced2"
      },
      "execution_count": 17,
      "outputs": [
        {
          "output_type": "stream",
          "name": "stdout",
          "text": [
            "Masukkan sebuah angka: 7\n",
            "Kuadrat dari 7 adalah 49\n",
            "Angka dalam bentuk float: 7.00\n"
          ]
        }
      ]
    },
    {
      "cell_type": "markdown",
      "source": [
        "# **PENUGASAN 07 - ANALISIS TEKS**"
      ],
      "metadata": {
        "id": "HV0SRn8SapWM"
      }
    },
    {
      "cell_type": "code",
      "source": [
        "teks = input(\"Masukkan sebuah kalimat: \")\n",
        "\n",
        "kata_list = teks.split()\n",
        "jumlah_kata = len(kata_list)\n",
        "kata_terpanjang = max(kata_list, key=len)\n",
        "kata_urut = sorted(kata_list)\n",
        "\n",
        "print(f\"Jumlah kata     : {jumlah_kata}\")\n",
        "print(f\"Kata terpanjang : {kata_terpanjang}\")\n",
        "print(f\"Daftar kata (urut abjad): {kata_urut}\")"
      ],
      "metadata": {
        "colab": {
          "base_uri": "https://localhost:8080/"
        },
        "id": "nNCIFnBCaObZ",
        "outputId": "d4e36725-5d8d-4389-ee90-c3b573ef94b3"
      },
      "execution_count": 21,
      "outputs": [
        {
          "output_type": "stream",
          "name": "stdout",
          "text": [
            "Masukkan sebuah kalimat: matematika ilmu yang menyenangkan\n",
            "Jumlah kata     : 4\n",
            "Kata terpanjang : menyenangkan\n",
            "Daftar kata (urut abjad): ['ilmu', 'matematika', 'menyenangkan', 'yang']\n"
          ]
        }
      ]
    },
    {
      "cell_type": "code",
      "source": [],
      "metadata": {
        "id": "HS7nUvX6dbPC"
      },
      "execution_count": null,
      "outputs": []
    }
  ]
}