{
  "cells": [
    {
      "cell_type": "markdown",
      "metadata": {
        "id": "view-in-github",
        "colab_type": "text"
      },
      "source": [
        "<a href=\"https://colab.research.google.com/github/nayashbrn/Algoritma-Pemrograman/blob/main/Inayah_Cikal_Nurshabrina_Praktikum_06.ipynb\" target=\"_parent\"><img src=\"https://colab.research.google.com/assets/colab-badge.svg\" alt=\"Open In Colab\"/></a>"
      ]
    },
    {
      "cell_type": "markdown",
      "metadata": {
        "id": "-sW3bJ4R1flb"
      },
      "source": [
        "# **PRAKTIKUM 01 - MEMBUAT DAN MENGAKSES LIST 1D**"
      ]
    },
    {
      "cell_type": "code",
      "execution_count": null,
      "metadata": {
        "colab": {
          "base_uri": "https://localhost:8080/"
        },
        "id": "75pdKbc-1Wdg",
        "outputId": "b51fd0ca-fcfd-49f5-bdc8-19685fb62b2a"
      },
      "outputs": [
        {
          "name": "stdout",
          "output_type": "stream",
          "text": [
            "Andi\n",
            "Budi\n",
            "Cici\n"
          ]
        }
      ],
      "source": [
        "mahasiswa=[\"Andi\", \"Budi\", \"Cici\"]\n",
        "print(mahasiswa[0])   # Andi\n",
        "print(mahasiswa[1])   # Budi\n",
        "print(mahasiswa[-1])  # Cici"
      ]
    },
    {
      "cell_type": "markdown",
      "metadata": {
        "id": "WNwTMgca27ty"
      },
      "source": [
        "# **PRAKTIKUM 02 - UPDATE DAN OPERASI DASAR LIST**"
      ]
    },
    {
      "cell_type": "code",
      "execution_count": null,
      "metadata": {
        "colab": {
          "base_uri": "https://localhost:8080/"
        },
        "id": "hqXGZQBl2v3o",
        "outputId": "17d9bbcd-bf24-4ddc-9e6a-244eac8d40b7"
      },
      "outputs": [
        {
          "name": "stdout",
          "output_type": "stream",
          "text": [
            "[85, 95, 100]\n"
          ]
        }
      ],
      "source": [
        "nilai=[85, 90, 78]\n",
        "nilai[1]=95\n",
        "nilai.append(100)\n",
        "nilai.remove(78)\n",
        "print(nilai)"
      ]
    },
    {
      "cell_type": "markdown",
      "metadata": {
        "id": "13C5_MlW30-o"
      },
      "source": [
        "# **PRAKTIKUM 03 - SLICING LIST**"
      ]
    },
    {
      "cell_type": "code",
      "execution_count": null,
      "metadata": {
        "colab": {
          "base_uri": "https://localhost:8080/"
        },
        "id": "CU6y76KF3Otn",
        "outputId": "e31ad6a2-ea11-4dde-8f6b-1cbcee08146d"
      },
      "outputs": [
        {
          "name": "stdout",
          "output_type": "stream",
          "text": [
            "[85, 90, 78]\n",
            "[78, 92, 88]\n",
            "[85, 90, 78]\n"
          ]
        }
      ],
      "source": [
        "nilai=[85,90,78,92,88]\n",
        "print(nilai[0:3])\n",
        "print(nilai[2:])\n",
        "print(nilai[:3])"
      ]
    },
    {
      "cell_type": "markdown",
      "metadata": {
        "id": "Ae2B12kR4Ruz"
      },
      "source": [
        "# **PRAKTIKUM 04 - LIST 2D (MATRIKS)**"
      ]
    },
    {
      "cell_type": "code",
      "execution_count": null,
      "metadata": {
        "colab": {
          "base_uri": "https://localhost:8080/"
        },
        "id": "0BmGxNIi4GRt",
        "outputId": "519c0153-dcf1-4cfb-ed44-749131c5727a"
      },
      "outputs": [
        {
          "name": "stdout",
          "output_type": "stream",
          "text": [
            "1\n",
            "6\n",
            "[7, 8, 9]\n"
          ]
        }
      ],
      "source": [
        "matriks= [\n",
        "    [1,2,3],\n",
        "    [4,5,6],\n",
        "    [7,8,9],\n",
        "]\n",
        "\n",
        "print(matriks [0] [0])\n",
        "print(matriks [1] [2])\n",
        "print(matriks [2])"
      ]
    },
    {
      "cell_type": "markdown",
      "metadata": {
        "id": "jPLirpmP4yMg"
      },
      "source": [
        "# **PRAKTIKUM 05 - OPERASI PADA LIST 2D**"
      ]
    },
    {
      "cell_type": "code",
      "execution_count": null,
      "metadata": {
        "colab": {
          "base_uri": "https://localhost:8080/"
        },
        "id": "v_8DqtB14q2L",
        "outputId": "4d53b7bb-2a47-43e8-da39-4f1f94d9d329"
      },
      "outputs": [
        {
          "output_type": "stream",
          "name": "stdout",
          "text": [
            "[[8, 10, 12], [14, 16, 18]]\n"
          ]
        }
      ],
      "source": [
        "A=[[1,2,3], [4,5,6]]\n",
        "B=[[7,8,9], [10,11,12]]\n",
        "C=[]\n",
        "\n",
        "for i in range (len(A)):\n",
        "  baris = []\n",
        "  for j in range (len(A[0])):\n",
        "    baris.append(A[i][j] + B[i][j])\n",
        "  C.append(baris)\n",
        "print(C)"
      ]
    },
    {
      "cell_type": "markdown",
      "source": [
        "# **PRAKTIKUM 06 - STUDI KASUS : PENGELOLAAN NILAI MAHASISWA**"
      ],
      "metadata": {
        "id": "q-6fQmDu_NQt"
      }
    },
    {
      "cell_type": "code",
      "source": [
        "nilai= [\n",
        "    [80, 90, 85],\n",
        "    [70, 75, 80],\n",
        "    [88, 92, 84]\n",
        "]\n",
        "\n",
        "for i, baris in enumerate(nilai, start=1):\n",
        "  rata=sum(baris) / len(baris)\n",
        "  print(f\"Rata-rata mahasiswa {i}: {rata:.2f}\")"
      ],
      "metadata": {
        "colab": {
          "base_uri": "https://localhost:8080/"
        },
        "id": "mcZ1Usg5-7Cy",
        "outputId": "89a11dfe-7e73-4373-8fcb-95e76898712f"
      },
      "execution_count": null,
      "outputs": [
        {
          "output_type": "stream",
          "name": "stdout",
          "text": [
            "Rata-rata mahasiswa 1: 85.00\n",
            "Rata-rata mahasiswa 2: 75.00\n",
            "Rata-rata mahasiswa 3: 88.00\n"
          ]
        }
      ]
    },
    {
      "cell_type": "markdown",
      "source": [
        "# **PENUGASAN 01 - AKSES ELEMENT LIST**"
      ],
      "metadata": {
        "id": "U7pSB2bxiX5o"
      }
    },
    {
      "cell_type": "code",
      "source": [
        "mahasiswa=[\"Andi\", \"Budi\", \"Cikal\", \"Naya\", \"Aghi\"]\n",
        "print(\"Nama pertama:\", mahasiswa[0])\n",
        "print(\"Nama terakhir:\", mahasiswa[-1])\n",
        "print(\"Nama indeks ke-2:\", mahasiswa[2])"
      ],
      "metadata": {
        "id": "HhSY1S0TAK_d",
        "colab": {
          "base_uri": "https://localhost:8080/"
        },
        "outputId": "584fa0ac-e60c-4b0d-9071-f53d840031f6"
      },
      "execution_count": 1,
      "outputs": [
        {
          "output_type": "stream",
          "name": "stdout",
          "text": [
            "Nama pertama: Andi\n",
            "Nama terakhir: Aghi\n",
            "Nama indeks ke-2: Cikal\n"
          ]
        }
      ]
    },
    {
      "cell_type": "markdown",
      "source": [
        "# **PENUGASAN 02 - OPERASI DASAR LIST**"
      ],
      "metadata": {
        "id": "sJOHen4tieE0"
      }
    },
    {
      "cell_type": "code",
      "source": [
        "nilai=[70, 75, 80]\n",
        "nilai[1]=85\n",
        "nilai.append(90)\n",
        "nilai.remove(70)\n",
        "print(nilai)"
      ],
      "metadata": {
        "colab": {
          "base_uri": "https://localhost:8080/"
        },
        "id": "b8h4tGrHiAzs",
        "outputId": "85cf4431-023e-477c-e427-0a983e4389a1"
      },
      "execution_count": 2,
      "outputs": [
        {
          "output_type": "stream",
          "name": "stdout",
          "text": [
            "[85, 80, 90]\n"
          ]
        }
      ]
    },
    {
      "cell_type": "markdown",
      "source": [
        "# **PENUGASAN 03 - SLICING LIST**"
      ],
      "metadata": {
        "id": "eB8OGahmjgJH"
      }
    },
    {
      "cell_type": "code",
      "source": [
        "nilai=[1, 2, 3, 4, 5, 6, 7, 8, 9, 10]\n",
        "print(nilai[0:3])\n",
        "print(nilai[-4:])\n",
        "print(nilai[::2])"
      ],
      "metadata": {
        "colab": {
          "base_uri": "https://localhost:8080/"
        },
        "id": "3VSn-MS1jJyj",
        "outputId": "09c1bb8a-2164-4b5e-c250-89bbc99c69ce"
      },
      "execution_count": 10,
      "outputs": [
        {
          "output_type": "stream",
          "name": "stdout",
          "text": [
            "[1, 2, 3]\n",
            "[7, 8, 9, 10]\n",
            "[1, 3, 5, 7, 9]\n"
          ]
        }
      ]
    },
    {
      "cell_type": "markdown",
      "source": [
        "# **PENUGASAN 04 - LIST 2D - MATRIKS**"
      ],
      "metadata": {
        "id": "LcT0ed4wlKEx"
      }
    },
    {
      "cell_type": "code",
      "source": [
        "matriks= [\n",
        "    [1,2,3],\n",
        "    [4,5,6],\n",
        "]\n",
        "\n",
        "print(\"Baris pertama kolom kedua:\", matriks [0] [1])\n",
        "print(\"Seluruh baris pertama:\", matriks [0])\n",
        "print(\"Baris kedua kolom ketiga:\", matriks [1] [2])"
      ],
      "metadata": {
        "colab": {
          "base_uri": "https://localhost:8080/"
        },
        "id": "DPFbI_gxkI8_",
        "outputId": "887c8140-1dd6-41de-9b41-20c253132d3b"
      },
      "execution_count": 11,
      "outputs": [
        {
          "output_type": "stream",
          "name": "stdout",
          "text": [
            "Baris pertama kolom kedua: 2\n",
            "Seluruh baris pertama: [1, 2, 3]\n",
            "Baris kedua kolom ketiga: 6\n"
          ]
        }
      ]
    },
    {
      "cell_type": "markdown",
      "source": [
        "# **PENUGASAN 05 - OPERASI MATRIKS 2D**"
      ],
      "metadata": {
        "id": "_zL51vqymJI_"
      }
    },
    {
      "cell_type": "code",
      "source": [
        "matriks1 = [\n",
        "    [1, 2],\n",
        "    [3, 4]\n",
        "]\n",
        "\n",
        "matriks2 = [\n",
        "    [5, 6],\n",
        "    [7, 8]\n",
        "]\n",
        "\n",
        "hasil = [\n",
        "    [matriks1[0][0] + matriks2[0][0], matriks1[0][1] + matriks2[0][1]],\n",
        "    [matriks1[1][0] + matriks2[1][0], matriks1[1][1] + matriks2[1][1]]\n",
        "]\n",
        "\n",
        "print(\"Matriks 1:\", matriks1)\n",
        "print(\"Matriks 2:\", matriks2)\n",
        "print(\"Hasil penjumlahan:\")\n",
        "for baris in hasil:\n",
        "    print(baris)\n"
      ],
      "metadata": {
        "colab": {
          "base_uri": "https://localhost:8080/"
        },
        "id": "Ecbs0SxAl-nS",
        "outputId": "9c93888b-f7c1-4c8d-8c0c-8de0b80bf52c"
      },
      "execution_count": 12,
      "outputs": [
        {
          "output_type": "stream",
          "name": "stdout",
          "text": [
            "Matriks 1: [[1, 2], [3, 4]]\n",
            "Matriks 2: [[5, 6], [7, 8]]\n",
            "Hasil penjumlahan:\n",
            "[6, 8]\n",
            "[10, 12]\n"
          ]
        }
      ]
    },
    {
      "cell_type": "markdown",
      "source": [
        "# **PENUGASAN 06 - RATA RATA NILAI MAHASISWA**"
      ],
      "metadata": {
        "id": "Yk21unHWm32t"
      }
    },
    {
      "cell_type": "code",
      "source": [
        "nilai= [\n",
        "    [75, 80, 85],\n",
        "    [60, 70, 65],\n",
        "    [90, 95, 92]\n",
        "]\n",
        "\n",
        "for i, baris in enumerate(nilai, start=1):\n",
        "  rata=sum(baris) / len(baris)\n",
        "  print(f\"Rata-rata mahasiswa {i}: {rata:.2f}\")"
      ],
      "metadata": {
        "colab": {
          "base_uri": "https://localhost:8080/"
        },
        "id": "sLznEUpkmeg-",
        "outputId": "f28e95fe-0643-43f8-b2ee-372357afd941"
      },
      "execution_count": 13,
      "outputs": [
        {
          "output_type": "stream",
          "name": "stdout",
          "text": [
            "Rata-rata mahasiswa 1: 80.00\n",
            "Rata-rata mahasiswa 2: 65.00\n",
            "Rata-rata mahasiswa 3: 92.33\n"
          ]
        }
      ]
    },
    {
      "cell_type": "markdown",
      "source": [
        "# **PENUGASAN 07 - STUDI KASUS - DATA TOKO**"
      ],
      "metadata": {
        "id": "IdTxhoccn1Og"
      }
    },
    {
      "cell_type": "code",
      "source": [
        "stok = [\n",
        "    [\"Buku\", 20],\n",
        "    [\"Pulpen\", 35],\n",
        "    [\"Penghapus\", 15]\n",
        "]\n",
        "\n",
        "print(\"Daftar Stok Barang:\")\n",
        "for item in stok:\n",
        "    print(f\"{item[0]} : {item[1]}\")\n",
        "\n",
        "barang_terbanyak = stok[0]\n",
        "for item in stok:\n",
        "    if item[1] > barang_terbanyak[1]:\n",
        "        barang_terbanyak = item\n",
        "\n",
        "print(f\"\\nBarang dengan stok terbanyak adalah {barang_terbanyak[0]} ({barang_terbanyak[1]} buah).\")\n"
      ],
      "metadata": {
        "colab": {
          "base_uri": "https://localhost:8080/"
        },
        "id": "1MUXSS8vncnQ",
        "outputId": "00cbad07-58f1-43cd-d03c-ee9cfd58e0a9"
      },
      "execution_count": 14,
      "outputs": [
        {
          "output_type": "stream",
          "name": "stdout",
          "text": [
            "Daftar Stok Barang:\n",
            "Buku : 20\n",
            "Pulpen : 35\n",
            "Penghapus : 15\n",
            "\n",
            "Barang dengan stok terbanyak adalah Pulpen (35 buah).\n"
          ]
        }
      ]
    }
  ],
  "metadata": {
    "colab": {
      "provenance": [],
      "authorship_tag": "ABX9TyP/73pZBky2aRBFqG/0QEJ/",
      "include_colab_link": true
    },
    "kernelspec": {
      "display_name": "Python 3",
      "name": "python3"
    },
    "language_info": {
      "name": "python"
    }
  },
  "nbformat": 4,
  "nbformat_minor": 0
}