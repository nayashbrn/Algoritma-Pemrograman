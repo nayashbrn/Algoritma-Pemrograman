{
  "nbformat": 4,
  "nbformat_minor": 0,
  "metadata": {
    "colab": {
      "provenance": [],
      "authorship_tag": "ABX9TyP0KVkpyloyQtk487FQsD9x",
      "include_colab_link": true
    },
    "kernelspec": {
      "name": "python3",
      "display_name": "Python 3"
    },
    "language_info": {
      "name": "python"
    }
  },
  "cells": [
    {
      "cell_type": "markdown",
      "metadata": {
        "id": "view-in-github",
        "colab_type": "text"
      },
      "source": [
        "<a href=\"https://colab.research.google.com/github/nayashbrn/Algoritma-Pemrograman/blob/main/Inayah_Cikal_Nurshabrina_Praktikum_04.ipynb\" target=\"_parent\"><img src=\"https://colab.research.google.com/assets/colab-badge.svg\" alt=\"Open In Colab\"/></a>"
      ]
    },
    {
      "cell_type": "markdown",
      "source": [
        "# **PRAKTIKUM 01 - PERULANGAN FOR DENGAN RANGE**"
      ],
      "metadata": {
        "id": "zhNADpEFg9Sv"
      }
    },
    {
      "cell_type": "code",
      "source": [
        "for i in range(1, 5):\n",
        "  print(i)"
      ],
      "metadata": {
        "colab": {
          "base_uri": "https://localhost:8080/"
        },
        "id": "xiaZJK9rhDOT",
        "outputId": "2b6ea662-c62f-4359-dbd8-4f57ff4e2e25"
      },
      "execution_count": null,
      "outputs": [
        {
          "output_type": "stream",
          "name": "stdout",
          "text": [
            "1\n",
            "2\n",
            "3\n",
            "4\n"
          ]
        }
      ]
    },
    {
      "cell_type": "markdown",
      "source": [
        "# **PRAKTIKUM 02 - PERULANGAN WHILE**"
      ],
      "metadata": {
        "id": "3Yr8DETFhUia"
      }
    },
    {
      "cell_type": "code",
      "source": [
        "n = int(input(\"Masukkan angka:\"))\n",
        "while n > 0:\n",
        "  print(n)\n",
        "  n -= 1"
      ],
      "metadata": {
        "colab": {
          "base_uri": "https://localhost:8080/"
        },
        "id": "XV5Egic4hPBL",
        "outputId": "f69a5844-82d6-4add-b8ac-56fba79acbaf"
      },
      "execution_count": null,
      "outputs": [
        {
          "output_type": "stream",
          "name": "stdout",
          "text": [
            "Masukkan angka:5\n",
            "5\n",
            "4\n",
            "3\n",
            "2\n",
            "1\n"
          ]
        }
      ]
    },
    {
      "cell_type": "markdown",
      "source": [
        "# **PRAKTIKUM 03 - NESTED LOOP (SEGITIGA BINTANG)**"
      ],
      "metadata": {
        "id": "myg5Id-Chn2W"
      }
    },
    {
      "cell_type": "code",
      "source": [
        "for i in range(1, 5):\n",
        "  for j in range(i):\n",
        "    print (\"*\", end=\"\")\n",
        "  print()"
      ],
      "metadata": {
        "colab": {
          "base_uri": "https://localhost:8080/"
        },
        "id": "ldu5ebGOhjwI",
        "outputId": "3f80f069-d54a-4468-8f40-3d67ba16afaf"
      },
      "execution_count": null,
      "outputs": [
        {
          "output_type": "stream",
          "name": "stdout",
          "text": [
            "*\n",
            "**\n",
            "***\n",
            "****\n"
          ]
        }
      ]
    },
    {
      "cell_type": "markdown",
      "source": [
        "# **PRAKTIKUM 04 - BREAK DAN CONTINUE**"
      ],
      "metadata": {
        "id": "X4S-HtyaiG8l"
      }
    },
    {
      "cell_type": "code",
      "source": [
        "#Kode Python Break\n",
        "\n",
        "for i in range(1, 10):\n",
        "  if i == 5:\n",
        "    print(\"Angka 5 ditemukan\")\n",
        "    break"
      ],
      "metadata": {
        "colab": {
          "base_uri": "https://localhost:8080/"
        },
        "id": "beDvm7BriAmF",
        "outputId": "bd5f74fd-8210-477f-8207-3a8794010d03"
      },
      "execution_count": null,
      "outputs": [
        {
          "output_type": "stream",
          "name": "stdout",
          "text": [
            "Angka 5 ditemukan\n"
          ]
        }
      ]
    },
    {
      "cell_type": "code",
      "source": [
        "#Kode Python Continue\n",
        "\n",
        "for i in range(1, 5):\n",
        "  if i % 2 == 1:\n",
        "    continue\n",
        "  print(i)"
      ],
      "metadata": {
        "colab": {
          "base_uri": "https://localhost:8080/"
        },
        "id": "P5T25UXwiXjI",
        "outputId": "6c5bf8a2-4162-4b9b-a168-6b640be856a3"
      },
      "execution_count": null,
      "outputs": [
        {
          "output_type": "stream",
          "name": "stdout",
          "text": [
            "2\n",
            "4\n"
          ]
        }
      ]
    },
    {
      "cell_type": "markdown",
      "source": [
        "# **PRAKTIKUM 05 - FOR PADA DICTIONARY**"
      ],
      "metadata": {
        "id": "Vx4kW6Oeion8"
      }
    },
    {
      "cell_type": "code",
      "source": [
        "data = {\"Nama\": \"Andi\", \"Umur\": 20, \"Prodi\": \"TRK\"}\n",
        "\n",
        "for k, v in data.items():\n",
        "  print(k, \":\", v)"
      ],
      "metadata": {
        "colab": {
          "base_uri": "https://localhost:8080/"
        },
        "id": "LzndqtCeilfj",
        "outputId": "5483c9df-c6ce-4b48-fbf1-ad67081cb4d1"
      },
      "execution_count": null,
      "outputs": [
        {
          "output_type": "stream",
          "name": "stdout",
          "text": [
            "Nama : Andi\n",
            "Umur : 20\n",
            "Prodi : TRK\n"
          ]
        }
      ]
    },
    {
      "cell_type": "markdown",
      "source": [
        "# **PRAKTIKUM 06 - FOR DENGAN ENUMERATE**"
      ],
      "metadata": {
        "id": "ZzBBsHwojB3I"
      }
    },
    {
      "cell_type": "code",
      "source": [
        "daftar = [\"Andi\", \"Budi\", \"Cici\"]\n",
        "\n",
        "for i, nama in enumerate(daftar, start=1):\n",
        "  print(i, nama)"
      ],
      "metadata": {
        "colab": {
          "base_uri": "https://localhost:8080/"
        },
        "id": "24VNm2oJi8eX",
        "outputId": "c2844f46-664e-4d19-d7c4-5899c2d1568e"
      },
      "execution_count": null,
      "outputs": [
        {
          "output_type": "stream",
          "name": "stdout",
          "text": [
            "1 Andi\n",
            "2 Budi\n",
            "3 Cici\n"
          ]
        }
      ]
    },
    {
      "cell_type": "markdown",
      "source": [
        "# **PRAKTIKUM 07 - STUDI KASUS : PROGRAM KASIR MULTI-ITEM**"
      ],
      "metadata": {
        "id": "ypswpteIjhIk"
      }
    },
    {
      "cell_type": "code",
      "source": [
        "total = 0\n",
        "\n",
        "while True:\n",
        "  barang=input(\"Masukkan nama barang (ketik 'selesai') untuk berhenti):\")\n",
        "  if barang.lower() == \"selesai\":\n",
        "    break\n",
        "  harga = float(input(f\"Masukkan harga {barang}:\"))\n",
        "  jumlah = int(input(f\"Masukkan jumlah {barang}:\"))\n",
        "  subtotal = harga * jumlah\n",
        "  total += subtotal\n",
        "\n",
        "print(\"\\n===== Struk Belanja =====\")\n",
        "print(f\"Total Belanja : Rp {total}\")"
      ],
      "metadata": {
        "colab": {
          "base_uri": "https://localhost:8080/"
        },
        "id": "dDutLTPajY34",
        "outputId": "fe45340d-a0f5-4168-97fa-f695427cb591"
      },
      "execution_count": null,
      "outputs": [
        {
          "output_type": "stream",
          "name": "stdout",
          "text": [
            "Masukkan nama barang (ketik 'selesai') untuk berhenti):Buku\n",
            "Masukkan harga Buku:50000\n",
            "Masukkan jumlah Buku:2\n",
            "Masukkan nama barang (ketik 'selesai') untuk berhenti):Pulpen\n",
            "Masukkan harga Pulpen:5000\n",
            "Masukkan jumlah Pulpen:3\n",
            "Masukkan nama barang (ketik 'selesai') untuk berhenti):selesai\n",
            "\n",
            "===== Struk Belanja =====\n",
            "Total Belanja : Rp 115000.0\n"
          ]
        }
      ]
    },
    {
      "cell_type": "markdown",
      "source": [
        "# **PENUGASAN 01 - MENAMPILKAN DERET ANGKA**"
      ],
      "metadata": {
        "id": "f6kC4Q81Jt-B"
      }
    },
    {
      "cell_type": "code",
      "source": [
        "for i in range(3, 31, 3):\n",
        "  print(i)"
      ],
      "metadata": {
        "colab": {
          "base_uri": "https://localhost:8080/"
        },
        "id": "rqpXyzbgJTk2",
        "outputId": "6cac7fac-095c-42b8-b50e-3f3e4b47d6ea"
      },
      "execution_count": 2,
      "outputs": [
        {
          "output_type": "stream",
          "name": "stdout",
          "text": [
            "3\n",
            "6\n",
            "9\n",
            "12\n",
            "15\n",
            "18\n",
            "21\n",
            "24\n",
            "27\n",
            "30\n"
          ]
        }
      ]
    },
    {
      "cell_type": "markdown",
      "source": [
        "# **PENUGASAN 02 - HITUNG FAKTORIAL**"
      ],
      "metadata": {
        "id": "lAxsY0qfKMhR"
      }
    },
    {
      "cell_type": "code",
      "source": [
        "n = int(input(\"Masukkan angka:\"))\n",
        "\n",
        "faktorial = 1\n",
        "i = 1\n",
        "\n",
        "while i <= n:\n",
        "  faktorial *= i\n",
        "  i += 1\n",
        "\n",
        "print(\"Faktorial dari\", n, \"adalah\", faktorial)\n",
        ""
      ],
      "metadata": {
        "id": "aEnOTjJfkSAL",
        "colab": {
          "base_uri": "https://localhost:8080/"
        },
        "outputId": "2069a025-8526-44c3-f640-4dcbc1cc407d"
      },
      "execution_count": 3,
      "outputs": [
        {
          "output_type": "stream",
          "name": "stdout",
          "text": [
            "Masukkan angka:5\n",
            "Faktorial dari 5 adalah 120\n"
          ]
        }
      ]
    },
    {
      "cell_type": "markdown",
      "source": [
        "# **PENUGASAN 03 - SEGITIGA TERBALIK**"
      ],
      "metadata": {
        "id": "t3N_WRz_LVgS"
      }
    },
    {
      "cell_type": "code",
      "source": [
        "tinggi = 5\n",
        "\n",
        "for i in range(tinggi, 0, -1):\n",
        "  for j in range(i):\n",
        "    print (\"*\", end=\"\")\n",
        "  print()"
      ],
      "metadata": {
        "colab": {
          "base_uri": "https://localhost:8080/"
        },
        "id": "DVfBcnFQLJuO",
        "outputId": "9406b462-a6eb-49e6-8193-a75db01777ca"
      },
      "execution_count": 8,
      "outputs": [
        {
          "output_type": "stream",
          "name": "stdout",
          "text": [
            "*****\n",
            "****\n",
            "***\n",
            "**\n",
            "*\n"
          ]
        }
      ]
    },
    {
      "cell_type": "markdown",
      "source": [
        "# **PENUGASAN 04 - CARI BILANGAN PRIMA DENGAN BREAK**"
      ],
      "metadata": {
        "id": "Z-M2-aYLMPjU"
      }
    },
    {
      "cell_type": "code",
      "source": [
        "n = int(input(\"Masukkan bilangan: \"))\n",
        "\n",
        "if n > 1:                   # Bilangan prima harus lebih besar dari 1\n",
        "    for i in range(2, n):\n",
        "        if n % i == 0:\n",
        "            print(n, \"bukan bilangan prima.\")\n",
        "            print(\"Karena dapat dibagi oleh\", i)\n",
        "            break\n",
        "    else:\n",
        "        print(n, \"adalah bilangan prima.\")\n",
        "else:\n",
        "    print(n, \"bukan bilangan prima.\")\n"
      ],
      "metadata": {
        "colab": {
          "base_uri": "https://localhost:8080/"
        },
        "id": "hgMVNf-DLyHe",
        "outputId": "414410d5-0ced-4b2c-b84b-5f2a643387be"
      },
      "execution_count": 9,
      "outputs": [
        {
          "output_type": "stream",
          "name": "stdout",
          "text": [
            "Masukkan bilangan: 7\n",
            "7 adalah bilangan prima.\n"
          ]
        }
      ]
    },
    {
      "cell_type": "markdown",
      "source": [
        "# **PENUGASAN 05 - MENAMPILKAN HANYA BILANGAN GENAP DENGAN CONTINUE**"
      ],
      "metadata": {
        "id": "loOKOk8dNZvQ"
      }
    },
    {
      "cell_type": "code",
      "source": [
        "for i in range(1, 21):\n",
        "    if i % 2 != 0:\n",
        "        continue\n",
        "    print(i)"
      ],
      "metadata": {
        "colab": {
          "base_uri": "https://localhost:8080/"
        },
        "id": "vqMFPY6_NDyD",
        "outputId": "1b50bb2b-eb92-4356-9a06-2d70a2f21e77"
      },
      "execution_count": 10,
      "outputs": [
        {
          "output_type": "stream",
          "name": "stdout",
          "text": [
            "2\n",
            "4\n",
            "6\n",
            "8\n",
            "10\n",
            "12\n",
            "14\n",
            "16\n",
            "18\n",
            "20\n"
          ]
        }
      ]
    },
    {
      "cell_type": "markdown",
      "source": [
        "# **PENUGASAN 06 - ITERASI DICTIONARY MAHASISWA**"
      ],
      "metadata": {
        "id": "TavXchC2OJZt"
      }
    },
    {
      "cell_type": "code",
      "source": [
        "mahasiswa = {\"Nama\": \"Budi\", \"Umur\": 21, \"Prodi\": \"Teknik Komputer\"}\n",
        "\n",
        "for k, v in mahasiswa.items():\n",
        "  print(k, \":\", v)"
      ],
      "metadata": {
        "colab": {
          "base_uri": "https://localhost:8080/"
        },
        "id": "jpMIMnU7N--C",
        "outputId": "308998f8-4b5f-4c8e-ad89-8c38c5662251"
      },
      "execution_count": 11,
      "outputs": [
        {
          "output_type": "stream",
          "name": "stdout",
          "text": [
            "Nama : Budi\n",
            "Umur : 21\n",
            "Prodi : Teknik Komputer\n"
          ]
        }
      ]
    },
    {
      "cell_type": "markdown",
      "source": [
        "# **PENUGASAN 07 - ENUMERATE DAFTAR BARANG**"
      ],
      "metadata": {
        "id": "N6emZ530O5S5"
      }
    },
    {
      "cell_type": "code",
      "source": [
        "daftar = [\"Buku\", \"Pulpen\", \"Tas\"]\n",
        "\n",
        "for i, nama in enumerate(daftar, start=1):\n",
        "  print(i, nama)"
      ],
      "metadata": {
        "colab": {
          "base_uri": "https://localhost:8080/"
        },
        "id": "kWQ3bCh4OwZO",
        "outputId": "fc2ea8d4-9378-4c1a-962b-4c35d1c94284"
      },
      "execution_count": 12,
      "outputs": [
        {
          "output_type": "stream",
          "name": "stdout",
          "text": [
            "1 Buku\n",
            "2 Pulpen\n",
            "3 Tas\n"
          ]
        }
      ]
    },
    {
      "cell_type": "markdown",
      "source": [
        "# **PENUGASAN 08 - STUDI KASUS - KASIR DISKON**"
      ],
      "metadata": {
        "id": "eQCtYnMjQnxN"
      }
    },
    {
      "cell_type": "code",
      "source": [
        "total = 0\n",
        "daftar_belanja = []\n",
        "\n",
        "while True:\n",
        "    nama_barang = input(\"Masukkan nama barang: \")\n",
        "\n",
        "    if nama_barang.lower() == \"selesai\":\n",
        "        break\n",
        "\n",
        "    harga = int(input(\"Masukkan harga barang (Rp): \"))\n",
        "    jumlah = int(input(\"Masukkan jumlah barang: \"))\n",
        "\n",
        "    subtotal = harga * jumlah\n",
        "    total += subtotal\n",
        "\n",
        "    # Simpan ke daftar belanja\n",
        "    daftar_belanja.append((nama_barang, harga, jumlah, subtotal))\n",
        "    print(f\"{nama_barang} ditambahkan ke keranjang.\\n\")\n",
        "\n",
        "# Hitung diskon\n",
        "diskon = 0\n",
        "if total >= 200000:\n",
        "    diskon = total * 0.10\n",
        "\n",
        "total_bayar = total - diskon\n",
        "\n",
        "# Tampilkan struk belanja\n",
        "print(\"\\n=== STRUK BELANJA ===\")\n",
        "for item in daftar_belanja:\n",
        "    print(f\"{item[0]} (Rp {item[1]} x {item[2]}) = Rp {item[3]}\")\n",
        "print(\"----------------------------\")\n",
        "print(f\"Total Harga : Rp {total}\")\n",
        "print(f\"Diskon 10%  : Rp {int(diskon)}\")\n",
        "print(f\"Total Bayar : Rp {int(total_bayar)}\")\n",
        "print(\"============================\")\n",
        "print(\"Terima kasih telah berbelanja!\")"
      ],
      "metadata": {
        "colab": {
          "base_uri": "https://localhost:8080/"
        },
        "id": "DES4UJ-SPOq9",
        "outputId": "6314e4c4-a681-4b21-e69e-6b965cd2880b"
      },
      "execution_count": 13,
      "outputs": [
        {
          "output_type": "stream",
          "name": "stdout",
          "text": [
            "Masukkan nama barang: sepatu\n",
            "Masukkan harga barang (Rp): 200000\n",
            "Masukkan jumlah barang: 2\n",
            "sepatu ditambahkan ke keranjang.\n",
            "\n",
            "Masukkan nama barang: selesai\n",
            "\n",
            "=== STRUK BELANJA ===\n",
            "sepatu (Rp 200000 x 2) = Rp 400000\n",
            "----------------------------\n",
            "Total Harga : Rp 400000\n",
            "Diskon 10%  : Rp 40000\n",
            "Total Bayar : Rp 360000\n",
            "============================\n",
            "Terima kasih telah berbelanja!\n"
          ]
        }
      ]
    },
    {
      "cell_type": "code",
      "source": [],
      "metadata": {
        "id": "Twu7Wqa5QF1T"
      },
      "execution_count": null,
      "outputs": []
    }
  ]
}