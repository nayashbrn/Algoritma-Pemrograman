{
  "nbformat": 4,
  "nbformat_minor": 0,
  "metadata": {
    "colab": {
      "provenance": [],
      "authorship_tag": "ABX9TyO8WEyrcS9kW7wt4+eGJNw2",
      "include_colab_link": true
    },
    "kernelspec": {
      "name": "python3",
      "display_name": "Python 3"
    },
    "language_info": {
      "name": "python"
    }
  },
  "cells": [
    {
      "cell_type": "markdown",
      "metadata": {
        "id": "view-in-github",
        "colab_type": "text"
      },
      "source": [
        "<a href=\"https://colab.research.google.com/github/nayashbrn/Algoritma-Pemrograman/blob/main/Inayah_Cikal_Nurshabrina_Jobsheet__2.ipynb\" target=\"_parent\"><img src=\"https://colab.research.google.com/assets/colab-badge.svg\" alt=\"Open In Colab\"/></a>"
      ]
    },
    {
      "cell_type": "markdown",
      "source": [
        "**Praktikum 01 - Pengenalan Variabel dan Tipe Data**"
      ],
      "metadata": {
        "id": "YOO9coetBzMO"
      }
    },
    {
      "cell_type": "code",
      "execution_count": null,
      "metadata": {
        "colab": {
          "base_uri": "https://localhost:8080/"
        },
        "id": "CgpH1oiZBQqi",
        "outputId": "fe4eb740-85ba-4eb2-9da4-4f8c68c3f3c1"
      },
      "outputs": [
        {
          "output_type": "stream",
          "name": "stdout",
          "text": [
            "Umur: 20 -> <class 'int'>\n",
            "Tinggi 170.5 -> <class 'float'>\n",
            "Nama: Andi -> <class 'str'>\n",
            "Status Mahasiswa: True -> <class 'bool'>\n",
            "Nilai: [80, 85, 90] -> <class 'list'>\n",
            "Koordinat: (10, 20) -> <class 'tuple'>\n",
            "Data Mahasiswa: {'nama': 'Andi', 'umur': 20, 'prodi': 'TRK'} -> <class 'dict'>\n",
            "Hobi: {'musik', 'membaca', 'olahraga'} -> <class 'set'>\n"
          ]
        }
      ],
      "source": [
        "# Integer\n",
        "umur = 20\n",
        "print (\"Umur:\", umur, \"->\", type(umur))\n",
        "\n",
        "#float\n",
        "tinggi = 170.5\n",
        "print (\"Tinggi\", tinggi, \"->\", type(tinggi))\n",
        "\n",
        "#String\n",
        "nama = \"Andi\"\n",
        "print(\"Nama:\", nama, \"->\", type(nama))\n",
        "\n",
        "#Boolean\n",
        "is_mahasiswa = True\n",
        "print(\"Status Mahasiswa:\", is_mahasiswa, \"->\", type(is_mahasiswa))\n",
        "\n",
        "#List\n",
        "nilai = [80, 85,90]\n",
        "print(\"Nilai:\", nilai, \"->\", type(nilai))\n",
        "\n",
        "#Tuple\n",
        "koordinat = (10, 20)\n",
        "print (\"Koordinat:\", koordinat, \"->\", type(koordinat))\n",
        "\n",
        "#Dictionary\n",
        "mahasiswa = {\"nama\": \"Andi\", \"umur\": 20, \"prodi\": \"TRK\"}\n",
        "print (\"Data Mahasiswa:\", mahasiswa, \"->\", type (mahasiswa))\n",
        "\n",
        "#Set\n",
        "hobi = {\"membaca\", \"olahraga\", \"musik\"}\n",
        "print (\"Hobi:\", hobi, \"->\", type(hobi))"
      ]
    },
    {
      "cell_type": "markdown",
      "source": [
        "**Praktikum 02 - Input dan Output Dasar**"
      ],
      "metadata": {
        "id": "ZZnJGoSlHX9P"
      }
    },
    {
      "cell_type": "code",
      "source": [
        "#Input string\n",
        "nama=input(\"Masukkan nama Anda:\")\n",
        "\n",
        "#Inputinteger\n",
        "umur=int(input(\"Masukkan umur Anda:\"))\n",
        "\n",
        "#Inputfloat\n",
        "tinggi=float(input(\"Masukkan umur Anda:\"))\n",
        "\n",
        "#Outputstandar\n",
        "print (\"Halo,\", nama, \"Umur Anda:\", umur, \"tahun, tinggi:\", tinggi, \"cm\")\n",
        "\n",
        "#Output dengan format ()\n",
        "print (\"Halo {0}, umur Anda {1} tahun, tinggi {2} cm\". format(nama, umur, tinggi))\n",
        "\n",
        "#Output dengan f-string\n",
        "print (f\"Halo {nama}, umur Anda {umur} tahun, tinggi {tinggi} cm\")"
      ],
      "metadata": {
        "colab": {
          "base_uri": "https://localhost:8080/"
        },
        "id": "EHali2hLHgnY",
        "outputId": "9383ad8f-7756-49c6-92fe-52b393427bb4"
      },
      "execution_count": null,
      "outputs": [
        {
          "output_type": "stream",
          "name": "stdout",
          "text": [
            "Masukkan nama Anda:Naya\n",
            "Masukkan umur Anda:17\n",
            "Masukkan umur Anda:17\n",
            "Halo, Naya Umur Anda: 17 tahun, tinggi: 17.0 cm\n",
            "Halo Naya, umur Anda 17 tahun, tinggi 17.0 cm\n",
            "Halo Naya, umur Anda 17 tahun, tinggi 17.0 cm\n"
          ]
        }
      ]
    },
    {
      "cell_type": "markdown",
      "source": [
        "**Prakrikum 03 - Operator Aritmatika**"
      ],
      "metadata": {
        "id": "0zx9uaDEJwG0"
      }
    },
    {
      "cell_type": "code",
      "source": [
        "a=15\n",
        "b=4\n",
        "\n",
        "print(\"a+b=\", a+b)\n",
        "print(\"a-b=\", a-b)\n",
        "print(\"a*b=\", a*b)\n",
        "print(\"a/b=\", a/b)\n",
        "print(\"a//b=\", a//b)\n",
        "print(\"a%b=\", a%b)\n",
        "print(\"a**b=\", a**b)\n",
        "#Hasil program menunjukkan bahwa Python mampu melakukan perhitungan dasar dengan operator yang sederhana dan intuitif"
      ],
      "metadata": {
        "colab": {
          "base_uri": "https://localhost:8080/"
        },
        "id": "ekV5omL0HskV",
        "outputId": "486dfe94-1adf-4922-9fde-11d01a2139a5"
      },
      "execution_count": null,
      "outputs": [
        {
          "output_type": "stream",
          "name": "stdout",
          "text": [
            "a+b= 19\n",
            "a-b= 11\n",
            "a*b= 60\n",
            "a/b= 3.75\n",
            "a//b= 3\n",
            "a%b= 3\n",
            "a**b= 50625\n"
          ]
        }
      ]
    },
    {
      "cell_type": "markdown",
      "source": [
        "**Praktikum 04 - Operator Relasional**"
      ],
      "metadata": {
        "id": "_rNf5Go_Ljva"
      }
    },
    {
      "cell_type": "code",
      "source": [
        "x=10\n",
        "y=20\n",
        "\n",
        "print(\"x == y:\", x == y)\n",
        "print(\"x != y:\", x != y)\n",
        "print(\"x < y:\", x < y)\n",
        "print(\"x > y:\", x > y )\n",
        "print(\"x <= y:\", x <= y)\n",
        "print(\"x >= y:\", x >= y)"
      ],
      "metadata": {
        "colab": {
          "base_uri": "https://localhost:8080/"
        },
        "id": "dDi7phCzLdQH",
        "outputId": "a799ff39-8a50-4f63-d137-ee2a6a5e077b"
      },
      "execution_count": null,
      "outputs": [
        {
          "output_type": "stream",
          "name": "stdout",
          "text": [
            "x == y: False\n",
            "x != y: True\n",
            "x < y: True\n",
            "x > y: False\n",
            "x <= y: True\n",
            "x >= y: False\n"
          ]
        }
      ]
    },
    {
      "cell_type": "markdown",
      "source": [
        "**Praktikum 05 - Operator Logika dengan Studi Kasus Nyata**"
      ],
      "metadata": {
        "id": "BR5Hqy0gNHQi"
      }
    },
    {
      "cell_type": "code",
      "source": [
        "#Operator logika dasar\n",
        "a=True\n",
        "b=False\n",
        "\n",
        "print(\"a and b=\", a and b)\n",
        "print(\"a or b =\", a or b)\n",
        "print(\"not a =\", not a)\n",
        "\n",
        "#Studi kasus nyata: kelulusan\n",
        "nilai=int(input(\"Masukkan nilai ujian:\"))\n",
        "hadir=int(input(\"Masukkan jumlah kehadiran:\"))\n",
        "\n",
        "lulus_nilai=nilai >= 60\n",
        "lulus_hadir=hadir >= 12 #dari 16 pertemuan\n",
        "\n",
        "if lulus_nilai and lulus_hadir:\n",
        "    print(\"Status: LULUS\")\n",
        "else:\n",
        "  print(\"Status: TIDAK LULUS\")"
      ],
      "metadata": {
        "colab": {
          "base_uri": "https://localhost:8080/"
        },
        "id": "BW7qzV9kM70_",
        "outputId": "988bfb6b-8419-4296-c14c-dc30170c37e9"
      },
      "execution_count": null,
      "outputs": [
        {
          "output_type": "stream",
          "name": "stdout",
          "text": [
            "a and b= False\n",
            "a or b = True\n",
            "not a = False\n",
            "Masukkan nilai ujian:85\n",
            "Masukkan jumlah kehadiran:15\n",
            "Status: LULUS\n"
          ]
        }
      ]
    },
    {
      "cell_type": "markdown",
      "source": [
        "**Praktikum 06 - Program Kasir Sederhana**"
      ],
      "metadata": {
        "id": "w7GIebTCQP9h"
      }
    },
    {
      "cell_type": "code",
      "source": [
        "barang=input(\"Masukkan nama barang:\")\n",
        "harga=float(input(\"Masukkan harga barang:\"))\n",
        "jumlah=int(input(\"Masukkan jumlah barang:\"))\n",
        "\n",
        "total = harga*jumlah\n",
        "\n",
        "#Aturan diskon\n",
        "if total >= 500000:\n",
        "    diskon = 0.2\n",
        "elif total >= 250000:\n",
        "    diskon = 0.1\n",
        "else:\n",
        "  diskon = 0\n",
        "\n",
        "potongan=total*diskon\n",
        "bayar=total-potongan\n",
        "\n",
        "print(\"\\n===== Struk Belanja =====\")\n",
        "print(f\"Barang : {barang}\")\n",
        "print(f\"Jumlah : {jumlah}\")\n",
        "print(f\"Total : Rp {total}\")\n",
        "print(f\"Diskon : {diskon * 100}%\")\n",
        "print(f\"Bayar : Rp {bayar}\")"
      ],
      "metadata": {
        "colab": {
          "base_uri": "https://localhost:8080/"
        },
        "id": "ydoCNy5sO3dB",
        "outputId": "ac239725-cdd4-41d2-dc7b-d0fc722f310b"
      },
      "execution_count": null,
      "outputs": [
        {
          "output_type": "stream",
          "name": "stdout",
          "text": [
            "Masukkan nama barang:sepatu\n",
            "Masukkan harga barang:2000000\n",
            "Masukkan jumlah barang:2\n",
            "\n",
            "===== Struk Belanja =====\n",
            "Barang : sepatu\n",
            "Jumlah : 2\n",
            "Total : Rp 4000000.0\n",
            "Diskon : 20.0%\n",
            "Bayar : Rp 3200000.0\n"
          ]
        }
      ]
    },
    {
      "cell_type": "markdown",
      "source": [
        "**Penugasan 1 - Identitas Mahasiswa**"
      ],
      "metadata": {
        "id": "J6SMvfdMZYmz"
      }
    },
    {
      "cell_type": "code",
      "source": [
        "nama = \"Naya\"\n",
        "Umur = 17\n",
        "Tinggi = 155.0\n",
        "Status_Aktif = True\n",
        "\n",
        "print(f\"Halo {nama}, umur saya {Umur} tahun, tinggi {Tinggi} cm, status aktif {Status_Aktif}\")"
      ],
      "metadata": {
        "colab": {
          "base_uri": "https://localhost:8080/"
        },
        "id": "_m2NA2BOQroC",
        "outputId": "36c0efed-57ed-4212-8dea-02ebd2523d85"
      },
      "execution_count": null,
      "outputs": [
        {
          "output_type": "stream",
          "name": "stdout",
          "text": [
            "Halo Naya, umur saya 17 tahun, tinggi 155.0 cm, status aktif True\n"
          ]
        }
      ]
    },
    {
      "cell_type": "markdown",
      "source": [
        "**Penugasan 2 - Operasi Aritmatika**"
      ],
      "metadata": {
        "id": "Aa9vDeeHt_81"
      }
    },
    {
      "cell_type": "code",
      "source": [
        "a=int(input(\"Masukkan nilai a:\"))\n",
        "b=int(input(\"Masukkan nilai b:\"))\n",
        "\n",
        "print(\"a+b=\", a+b)\n",
        "print(\"a-b=\", a-b)\n",
        "print(\"a*b=\", a*b)\n",
        "print(\"a/b=\", a/b)\n",
        "print(\"a%b=\", a%b)\n",
        "print(\"a**b=\", a**b)"
      ],
      "metadata": {
        "colab": {
          "base_uri": "https://localhost:8080/"
        },
        "id": "0hIry_prtUnB",
        "outputId": "fe6d0434-ed7e-4e1d-e432-b9d71c30df91"
      },
      "execution_count": null,
      "outputs": [
        {
          "output_type": "stream",
          "name": "stdout",
          "text": [
            "Masukkan nilai a:10\n",
            "Masukkan nilai b:10\n",
            "a+b= 20\n",
            "a-b= 0\n",
            "a*b= 100\n",
            "a/b= 1.0\n",
            "a%b= 0\n",
            "a**b= 10000000000\n"
          ]
        }
      ]
    },
    {
      "cell_type": "markdown",
      "source": [
        "**Penugasan 3 - Konversi Nilai**"
      ],
      "metadata": {
        "id": "z4eyINU4zBL0"
      }
    },
    {
      "cell_type": "code",
      "source": [
        "a=float(input(\"Masukkan bilangan a:\"))\n",
        "\n",
        "print(\"Hasil Konversi Integer=\", int(a))\n",
        "print(\"Hasil konversi string=\", str(a))\n",
        "print(\"Hasil pembulatan=\", round(a))"
      ],
      "metadata": {
        "colab": {
          "base_uri": "https://localhost:8080/"
        },
        "id": "Z6FZuLM-wRMP",
        "outputId": "52fc0e9e-e369-48d5-bec6-a1cfca99da5a"
      },
      "execution_count": null,
      "outputs": [
        {
          "output_type": "stream",
          "name": "stdout",
          "text": [
            "Masukkan bilangan a:12.6\n",
            "Hasil Konversi Integer= 12\n",
            "Hasil konversi string= 12.6\n",
            "Hasil pembulatan= 13\n"
          ]
        }
      ]
    },
    {
      "cell_type": "markdown",
      "source": [
        "**Penugasan 4 - Operator Relasional**"
      ],
      "metadata": {
        "id": "lZtAicFOzI8u"
      }
    },
    {
      "cell_type": "code",
      "source": [
        "a=int(input(\"Masukkan nilai a:\"))\n",
        "b=int(input(\"Masukkan nilai b:\"))\n",
        "\n",
        "print(\"a == b:\", a==b)\n",
        "print(\"a != b:\", a!=b)\n",
        "print(\"a < b:\", a<b)\n",
        "print(\"a > b:\", a>b)\n",
        "print(\"a <= b:\", a<=b)\n",
        "print(\"a >= b:\", a>=b)"
      ],
      "metadata": {
        "colab": {
          "base_uri": "https://localhost:8080/"
        },
        "id": "a2egHjAMywn4",
        "outputId": "78fd750a-7e23-4c0b-82b0-bd11e7965862"
      },
      "execution_count": null,
      "outputs": [
        {
          "output_type": "stream",
          "name": "stdout",
          "text": [
            "Masukkan nilai a:5\n",
            "Masukkan nilai b:10\n",
            "a == b: False\n",
            "a != b: True\n",
            "a < b: True\n",
            "a > b: False\n",
            "a <= b: True\n",
            "a >= b: False\n"
          ]
        }
      ]
    },
    {
      "cell_type": "code",
      "source": [],
      "metadata": {
        "id": "zv29gzUg2tXp"
      },
      "execution_count": null,
      "outputs": []
    }
  ]
}