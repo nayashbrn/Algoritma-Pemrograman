{
  "nbformat": 4,
  "nbformat_minor": 0,
  "metadata": {
    "colab": {
      "provenance": [],
      "authorship_tag": "ABX9TyOks8dKvurNzB2/LvWV+kYt",
      "include_colab_link": true
    },
    "kernelspec": {
      "name": "python3",
      "display_name": "Python 3"
    },
    "language_info": {
      "name": "python"
    }
  },
  "cells": [
    {
      "cell_type": "markdown",
      "metadata": {
        "id": "view-in-github",
        "colab_type": "text"
      },
      "source": [
        "<a href=\"https://colab.research.google.com/github/nayashbrn/Algoritma-Pemrograman/blob/main/Inayah_Cikal_Nurshabrina_Praktikum_07.ipynb\" target=\"_parent\"><img src=\"https://colab.research.google.com/assets/colab-badge.svg\" alt=\"Open In Colab\"/></a>"
      ]
    },
    {
      "cell_type": "markdown",
      "source": [
        "# **PRAKTIKUM 01 - TUPLE : DATA TETAP YANG TIDAK BISA DIUBAH**"
      ],
      "metadata": {
        "id": "Aa_q-tCNAfn3"
      }
    },
    {
      "cell_type": "code",
      "execution_count": null,
      "metadata": {
        "id": "ET1w_mpfAUyM",
        "colab": {
          "base_uri": "https://localhost:8080/"
        },
        "outputId": "ecdbaba1-97d0-4ef9-c6c0-b28268e72597"
      },
      "outputs": [
        {
          "output_type": "stream",
          "name": "stdout",
          "text": [
            "Lintang: 7.05\n",
            "Bujur: 110.44\n"
          ]
        }
      ],
      "source": [
        "koordinat = (7.05, 110.44)\n",
        "print(\"Lintang:\", koordinat[0])\n",
        "print(\"Bujur:\", koordinat[1])"
      ]
    },
    {
      "cell_type": "markdown",
      "source": [
        "# **PRAKTIKUM 02 - DICTIONARY DASAR : MENYIMPAN DATA MAHASISWA**"
      ],
      "metadata": {
        "id": "0Dwwg426cd77"
      }
    },
    {
      "cell_type": "code",
      "source": [
        "mahasiswa = {\n",
        "    \"NIM\": \"20251001\",\n",
        "    \"Nama\" : \"Andi\",\n",
        "    \"Prodi\" : \"TRK\"\n",
        "}\n",
        "\n",
        "print(\"NIM:\", mahasiswa [\"NIM\"])\n",
        "print(\"Nama:\", mahasiswa [\"Nama\"])\n",
        "print(\"Prodi:\", mahasiswa [\"Prodi\"])"
      ],
      "metadata": {
        "colab": {
          "base_uri": "https://localhost:8080/"
        },
        "id": "MM6yzrNecOFW",
        "outputId": "836d1bdd-2b6f-4976-8fcd-53bb8ecd11b2"
      },
      "execution_count": null,
      "outputs": [
        {
          "output_type": "stream",
          "name": "stdout",
          "text": [
            "NIM: 20251001\n",
            "Nama: Andi\n",
            "Prodi: TRK\n"
          ]
        }
      ]
    },
    {
      "cell_type": "markdown",
      "source": [
        "# **PRAKTIKUM 03 - OPERASI PADA DIRECTIONARY**"
      ],
      "metadata": {
        "id": "dL1fmdPtdhKs"
      }
    },
    {
      "cell_type": "code",
      "source": [
        "mahasiswa={\n",
        "    \"NIM\": \"20251001\",\n",
        "    \"Nama\": \"Andi\",\n",
        "    \"Prodi\": \"TRK\",\n",
        "}\n",
        "\n",
        "mahasiswa[\"Umur\"] = 20\n",
        "mahasiswa[\"Prodi\"] = \"Teknik Komputer\"\n",
        "del mahasiswa [\"Umur\"]\n",
        "\n",
        "print(mahasiswa)"
      ],
      "metadata": {
        "colab": {
          "base_uri": "https://localhost:8080/"
        },
        "id": "sfhu31ZIdXzR",
        "outputId": "a85b60f3-efde-4c94-c861-e78cca469559"
      },
      "execution_count": null,
      "outputs": [
        {
          "output_type": "stream",
          "name": "stdout",
          "text": [
            "{'NIM': '20251001', 'Nama': 'Andi', 'Prodi': 'Teknik Komputer'}\n"
          ]
        }
      ]
    },
    {
      "cell_type": "markdown",
      "source": [
        "# **PRAKTIKUM 04 - SET DAN OPERASI HIMPUNAN**"
      ],
      "metadata": {
        "id": "a_RUNBR7e_Fn"
      }
    },
    {
      "cell_type": "code",
      "source": [
        "A= {1,2,3,4}\n",
        "B= {3,4,5,6}\n",
        "\n",
        "print(\"Union:\", A | B)\n",
        "print(\"Intersection:\", A & B)\n",
        "print(\"Difference:\", A - B )"
      ],
      "metadata": {
        "colab": {
          "base_uri": "https://localhost:8080/"
        },
        "id": "AXx_VfUke1Xq",
        "outputId": "214451ff-b99f-41d6-ccfb-0f9572ced687"
      },
      "execution_count": null,
      "outputs": [
        {
          "output_type": "stream",
          "name": "stdout",
          "text": [
            "Union: {1, 2, 3, 4, 5, 6}\n",
            "Intersection: {3, 4}\n",
            "Difference: {1, 2}\n"
          ]
        }
      ]
    },
    {
      "cell_type": "markdown",
      "source": [
        "# **PRAKTIKUM 05 - STUDI KASUS : DATA MAHASISWA DAN MATA KULIAH**"
      ],
      "metadata": {
        "id": "pemxUBnHgpp0"
      }
    },
    {
      "cell_type": "code",
      "source": [
        "mhs1={\"Algoritma\", \"Matematika\", \"Bahasa Inggris\"}\n",
        "mhs2={\"Algoritma\", \"Basis Data\", \"Matematika\"}\n",
        "\n",
        "print(\"Mata kuliah mhs1:\", mhs1)\n",
        "print(\"Mata kuliah mhs2:\", mhs2)\n",
        "print(\"Mata kuliah yang samma:\", mhs1 & mhs2)"
      ],
      "metadata": {
        "colab": {
          "base_uri": "https://localhost:8080/"
        },
        "id": "-WZY9vT7fx0k",
        "outputId": "495e99ed-53c7-4d4b-ca91-71978a653140"
      },
      "execution_count": null,
      "outputs": [
        {
          "output_type": "stream",
          "name": "stdout",
          "text": [
            "Mata kuliah mhs1: {'Bahasa Inggris', 'Matematika', 'Algoritma'}\n",
            "Mata kuliah mhs2: {'Basis Data', 'Matematika', 'Algoritma'}\n",
            "Mata kuliah yang samma: {'Matematika', 'Algoritma'}\n"
          ]
        }
      ]
    },
    {
      "cell_type": "markdown",
      "source": [
        "#  **PRAKTIKUM 06 - STUDI KASUS DICTIONARY : DAFTAR NILAI MAHASISWA**"
      ],
      "metadata": {
        "id": "1vVRoSs6hmCe"
      }
    },
    {
      "cell_type": "code",
      "source": [
        "nilai_mahasiswa = {\n",
        "    \"Andi\" : 80,\n",
        "    \"Budi\" : 75,\n",
        "    \"Cici\" : 90\n",
        "}\n",
        "\n",
        "for nama, nilai in nilai_mahasiswa.items():\n",
        "    print(f\"{nama}: {nilai}\")\n",
        "rata=sum(nilai_mahasiswa.values()) / len(nilai_mahasiswa)\n",
        "print(f\"Rata-rata nilai: {rata:.2f}\")"
      ],
      "metadata": {
        "colab": {
          "base_uri": "https://localhost:8080/"
        },
        "id": "1kPKqdiUhdeP",
        "outputId": "1a0202c3-604f-427a-a89e-b7e4c17bf3df"
      },
      "execution_count": null,
      "outputs": [
        {
          "output_type": "stream",
          "name": "stdout",
          "text": [
            "Andi: 80\n",
            "Budi: 75\n",
            "Cici: 90\n",
            "Rata-rata nilai: 81.67\n"
          ]
        }
      ]
    },
    {
      "cell_type": "markdown",
      "source": [
        "# **PENUGASAN 01 - TUPLE SEDERHANA**"
      ],
      "metadata": {
        "id": "f7TK3bE_reLl"
      }
    },
    {
      "cell_type": "code",
      "source": [
        "mahasiswa = (\"Cikal\", 18, \"TRK\")\n",
        "\n",
        "print(\"Nama  :\", mahasiswa[0])\n",
        "print(\"Umur  :\", mahasiswa[1])\n",
        "print(\"Prodi :\", mahasiswa[2])"
      ],
      "metadata": {
        "colab": {
          "base_uri": "https://localhost:8080/"
        },
        "id": "KHIqhs5wrh6S",
        "outputId": "dcffeba2-fb5c-475d-f356-ccc945e5f951"
      },
      "execution_count": 1,
      "outputs": [
        {
          "output_type": "stream",
          "name": "stdout",
          "text": [
            "Nama  : Cikal\n",
            "Umur  : 18\n",
            "Prodi : TRK\n"
          ]
        }
      ]
    },
    {
      "cell_type": "markdown",
      "source": [
        "# **PENUGASAN 02 - TUPLE TIDAK BISA DIUBAH**"
      ],
      "metadata": {
        "id": "aoG1ifBQtIwn"
      }
    },
    {
      "cell_type": "code",
      "source": [
        "angka = (1, 2, 3)\n",
        "\n",
        "# Mencoba mengubah elemen pertama\n",
        "angka[0] = 10"
      ],
      "metadata": {
        "colab": {
          "base_uri": "https://localhost:8080/",
          "height": 176
        },
        "id": "dS56YqX3tOs0",
        "outputId": "3fd107ce-db7b-4592-95b7-5a707ed1f9f9"
      },
      "execution_count": 2,
      "outputs": [
        {
          "output_type": "error",
          "ename": "TypeError",
          "evalue": "'tuple' object does not support item assignment",
          "traceback": [
            "\u001b[0;31m---------------------------------------------------------------------------\u001b[0m",
            "\u001b[0;31mTypeError\u001b[0m                                 Traceback (most recent call last)",
            "\u001b[0;32m/tmp/ipython-input-4152172477.py\u001b[0m in \u001b[0;36m<cell line: 0>\u001b[0;34m()\u001b[0m\n\u001b[1;32m      2\u001b[0m \u001b[0;34m\u001b[0m\u001b[0m\n\u001b[1;32m      3\u001b[0m \u001b[0;31m# Mencoba mengubah elemen pertama\u001b[0m\u001b[0;34m\u001b[0m\u001b[0;34m\u001b[0m\u001b[0m\n\u001b[0;32m----> 4\u001b[0;31m \u001b[0mangka\u001b[0m\u001b[0;34m[\u001b[0m\u001b[0;36m0\u001b[0m\u001b[0;34m]\u001b[0m \u001b[0;34m=\u001b[0m \u001b[0;36m10\u001b[0m\u001b[0;34m\u001b[0m\u001b[0;34m\u001b[0m\u001b[0m\n\u001b[0m",
            "\u001b[0;31mTypeError\u001b[0m: 'tuple' object does not support item assignment"
          ]
        }
      ]
    },
    {
      "cell_type": "markdown",
      "source": [
        "# **PENUGASAN 03 - DICTIONARY DASAR**"
      ],
      "metadata": {
        "id": "zeFQBAV_vtpV"
      }
    },
    {
      "cell_type": "code",
      "source": [
        "buku = {\n",
        "    \"Judul\": \"Algoritma\",\n",
        "    \"Penulis\": \"Munir\",\n",
        "    \"Tahun\": 2021\n",
        "}\n",
        "\n",
        "print(\"Judul:\", buku [\"Judul\"])\n",
        "print(\"Penulis:\", buku [\"Penulis\"])\n",
        "print(\"Tahun:\", buku [\"Tahun\"])"
      ],
      "metadata": {
        "colab": {
          "base_uri": "https://localhost:8080/"
        },
        "id": "0qL6bWCOvQfD",
        "outputId": "a4cc2dc9-c261-4ae1-b1c9-99ba6283fb64"
      },
      "execution_count": 4,
      "outputs": [
        {
          "output_type": "stream",
          "name": "stdout",
          "text": [
            "Judul: Algoritma\n",
            "Penulis: Munir\n",
            "Tahun: 2021\n"
          ]
        }
      ]
    },
    {
      "cell_type": "markdown",
      "source": [
        "# **PENUGASAN 04 - OPERASI DICTIONARY**"
      ],
      "metadata": {
        "id": "wpbiK2AO4fRh"
      }
    },
    {
      "cell_type": "code",
      "source": [
        "dosen = {\n",
        "    \"NIP\": \"12345\",\n",
        "    \"Nama\": \"Budi\",\n",
        "    \"Prodi\": \"TRK\"\n",
        "}\n",
        "\n",
        "dosen[\"Umur\"] = 40\n",
        "dosen[\"Prodi\"] = \"Teknik Komputer\"\n",
        "del dosen[\"Umur\"]\n",
        "\n",
        "print(\"Data Dosen Akhir:\")\n",
        "print(dosen)"
      ],
      "metadata": {
        "colab": {
          "base_uri": "https://localhost:8080/"
        },
        "id": "eicbfnD7yu1V",
        "outputId": "eeb12d5c-3874-4093-a84d-5cb10f34c916"
      },
      "execution_count": 5,
      "outputs": [
        {
          "output_type": "stream",
          "name": "stdout",
          "text": [
            "Data Dosen Akhir:\n",
            "{'NIP': '12345', 'Nama': 'Budi', 'Prodi': 'Teknik Komputer'}\n"
          ]
        }
      ]
    },
    {
      "cell_type": "markdown",
      "source": [
        "# **PENUGASAN 05 - SET DAN HIMPUNAN**"
      ],
      "metadata": {
        "id": "aVZOHiAo49bF"
      }
    },
    {
      "cell_type": "code",
      "source": [
        "A = {\"Matematika\", \"Algoritma\", \"Bahasa Inggris\"}\n",
        "B = {\"Algoritma\", \"Basis Data\", \"Matematika\"}\n",
        "\n",
        "union_set = A.union(B)\n",
        "intersection_set = A.intersection(B)\n",
        "difference_set = A.difference(B)\n",
        "\n",
        "print(\"Union        :\", union_set)\n",
        "print(\"Intersection :\", intersection_set)\n",
        "print(\"Difference   :\", difference_set)"
      ],
      "metadata": {
        "colab": {
          "base_uri": "https://localhost:8080/"
        },
        "id": "rHBP7XVk5A8E",
        "outputId": "8d69afe7-f9eb-48f0-cf65-1c8aae273d8b"
      },
      "execution_count": 6,
      "outputs": [
        {
          "output_type": "stream",
          "name": "stdout",
          "text": [
            "Union        : {'Matematika', 'Algoritma', 'Bahasa Inggris', 'Basis Data'}\n",
            "Intersection : {'Matematika', 'Algoritma'}\n",
            "Difference   : {'Bahasa Inggris'}\n"
          ]
        }
      ]
    },
    {
      "cell_type": "markdown",
      "source": [
        "# **PENUGASAN 06 - STUDI KASUS DICTIONARY**"
      ],
      "metadata": {
        "id": "astyGmB06NYS"
      }
    },
    {
      "cell_type": "code",
      "source": [
        "nilai = {\n",
        "    \"Andi\": 85,\n",
        "    \"Budi\": 90,\n",
        "    \"Cici\": 78\n",
        "}\n",
        "\n",
        "print(\"Daftar Nilai Mahasiswa:\")\n",
        "for nama, skor in nilai.items():\n",
        "    print(f\"{nama} : {skor}\")\n",
        "\n",
        "rata_rata = sum(nilai.values()) / len(nilai)\n",
        "print(f\"\\nRata-rata nilai: {rata_rata:.2f}\")"
      ],
      "metadata": {
        "colab": {
          "base_uri": "https://localhost:8080/"
        },
        "id": "0lyBklu-85bc",
        "outputId": "1e3d825d-3630-4466-c283-b649224b9913"
      },
      "execution_count": 7,
      "outputs": [
        {
          "output_type": "stream",
          "name": "stdout",
          "text": [
            "Daftar Nilai Mahasiswa:\n",
            "Andi : 85\n",
            "Budi : 90\n",
            "Cici : 78\n",
            "\n",
            "Rata-rata nilai: 84.33\n"
          ]
        }
      ]
    },
    {
      "cell_type": "markdown",
      "source": [
        "# **PENUGASAN 07 - STUDI KASUS SET - KLUB MAHASISWA**"
      ],
      "metadata": {
        "id": "aCBAGRQHEp5g"
      }
    },
    {
      "cell_type": "code",
      "source": [
        "klub_A = {\"Andi\", \"Budi\", \"Cici\"}\n",
        "klub_B = {\"Cici\", \"Deni\", \"Eka\"}\n",
        "\n",
        "semua_anggota = klub_A.union(klub_B)\n",
        "anggota_keduanya = klub_A.intersection(klub_B)\n",
        "hanya_A = klub_A.difference(klub_B)\n",
        "\n",
        "print(\"Daftar seluruh anggota (Union):\", semua_anggota)\n",
        "print(\"Anggota di kedua klub (Intersection):\", anggota_keduanya)\n",
        "print(\"Anggota hanya di Klub A (Difference):\", hanya_A)"
      ],
      "metadata": {
        "colab": {
          "base_uri": "https://localhost:8080/"
        },
        "id": "lLDxxjcW9coG",
        "outputId": "ec68df5c-a043-4e23-cf4f-14f3a51f9561"
      },
      "execution_count": 8,
      "outputs": [
        {
          "output_type": "stream",
          "name": "stdout",
          "text": [
            "Daftar seluruh anggota (Union): {'Deni', 'Eka', 'Andi', 'Cici', 'Budi'}\n",
            "Anggota di kedua klub (Intersection): {'Cici'}\n",
            "Anggota hanya di Klub A (Difference): {'Andi', 'Budi'}\n"
          ]
        }
      ]
    }
  ]
}